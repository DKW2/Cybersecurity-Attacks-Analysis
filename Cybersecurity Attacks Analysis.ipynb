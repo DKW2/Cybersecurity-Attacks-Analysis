{
 "cells": [
  {
   "cell_type": "markdown",
   "id": "d7804178",
   "metadata": {},
   "source": [
    "# Capstone Project: Cybersecurity Attacks Analysis\n",
    "\n",
    "**Overview**: For my capstone project in UC Berkeley's ML/AI bootcamp, I will be analyzing a dataset of network packets and identifying factors which determine if the packet is a cyberattack or not. The goal for the project is to train a classification model that will be able to accurately predict if a packet is normal or malign.\n",
    "\n"
   ]
  },
  {
   "cell_type": "markdown",
   "id": "f4c1ff28",
   "metadata": {},
   "source": [
    "## Dataset\n",
    "\n",
    "This dataset comes from [Kaggle](https://www.kaggle.com/datasets/mrwellsdavid/unsw-nb15). The data is a synthetic dataset created by \"Cyber Range Lab of the Australian Centre for Cyber Security (ACCS) for generating a hybrid of real modern normal activities and synthetic contemporary attack behaviours\". In total, the data has 2 million records. However, they graciously sampled the dataset and created a training and testing set of a total of 250,000 records. Thus, instead of utilizing the 2 million records, we'll be using their train/test sets to lower the computation power."
   ]
  },
  {
   "cell_type": "markdown",
   "id": "21a8d1ad",
   "metadata": {},
   "source": [
    "## Business Objective"
   ]
  },
  {
   "cell_type": "markdown",
   "id": "543af669",
   "metadata": {},
   "source": [
    "Our objective in this project is to create a classification model that can accurately predict if a network packet is malignant or normal. These predictions will be based on the features in the dataset. In addition, we would like to identify features that have a strong impact on the model so that we can find what features define these attacks."
   ]
  },
  {
   "cell_type": "markdown",
   "id": "b93c4369",
   "metadata": {},
   "source": [
    "## Reading in the Data\n",
    "\n",
    "We have already imported the training set and data set into the /data folder. So we will extract it with pandas. For now, we'll be examining the training set since the testing set shares the exact same features as the training set."
   ]
  },
  {
   "cell_type": "code",
   "execution_count": 5,
   "id": "64834ccd",
   "metadata": {},
   "outputs": [],
   "source": [
    "import pandas as pd"
   ]
  },
  {
   "cell_type": "code",
   "execution_count": 20,
   "id": "a00611d7",
   "metadata": {},
   "outputs": [],
   "source": [
    "cyber_attacks = pd.read_csv( \"data/UNSW_NB15_training-set.csv\" )"
   ]
  },
  {
   "cell_type": "code",
   "execution_count": 22,
   "id": "32a35882",
   "metadata": {},
   "outputs": [
    {
     "data": {
      "text/html": [
       "<div>\n",
       "<style scoped>\n",
       "    .dataframe tbody tr th:only-of-type {\n",
       "        vertical-align: middle;\n",
       "    }\n",
       "\n",
       "    .dataframe tbody tr th {\n",
       "        vertical-align: top;\n",
       "    }\n",
       "\n",
       "    .dataframe thead th {\n",
       "        text-align: right;\n",
       "    }\n",
       "</style>\n",
       "<table border=\"1\" class=\"dataframe\">\n",
       "  <thead>\n",
       "    <tr style=\"text-align: right;\">\n",
       "      <th></th>\n",
       "      <th>id</th>\n",
       "      <th>dur</th>\n",
       "      <th>proto</th>\n",
       "      <th>service</th>\n",
       "      <th>state</th>\n",
       "      <th>spkts</th>\n",
       "      <th>dpkts</th>\n",
       "      <th>sbytes</th>\n",
       "      <th>dbytes</th>\n",
       "      <th>rate</th>\n",
       "      <th>...</th>\n",
       "      <th>ct_dst_sport_ltm</th>\n",
       "      <th>ct_dst_src_ltm</th>\n",
       "      <th>is_ftp_login</th>\n",
       "      <th>ct_ftp_cmd</th>\n",
       "      <th>ct_flw_http_mthd</th>\n",
       "      <th>ct_src_ltm</th>\n",
       "      <th>ct_srv_dst</th>\n",
       "      <th>is_sm_ips_ports</th>\n",
       "      <th>attack_cat</th>\n",
       "      <th>label</th>\n",
       "    </tr>\n",
       "  </thead>\n",
       "  <tbody>\n",
       "    <tr>\n",
       "      <th>0</th>\n",
       "      <td>1</td>\n",
       "      <td>0.121478</td>\n",
       "      <td>tcp</td>\n",
       "      <td>-</td>\n",
       "      <td>FIN</td>\n",
       "      <td>6</td>\n",
       "      <td>4</td>\n",
       "      <td>258</td>\n",
       "      <td>172</td>\n",
       "      <td>74.087490</td>\n",
       "      <td>...</td>\n",
       "      <td>1</td>\n",
       "      <td>1</td>\n",
       "      <td>0</td>\n",
       "      <td>0</td>\n",
       "      <td>0</td>\n",
       "      <td>1</td>\n",
       "      <td>1</td>\n",
       "      <td>0</td>\n",
       "      <td>Normal</td>\n",
       "      <td>0</td>\n",
       "    </tr>\n",
       "    <tr>\n",
       "      <th>1</th>\n",
       "      <td>2</td>\n",
       "      <td>0.649902</td>\n",
       "      <td>tcp</td>\n",
       "      <td>-</td>\n",
       "      <td>FIN</td>\n",
       "      <td>14</td>\n",
       "      <td>38</td>\n",
       "      <td>734</td>\n",
       "      <td>42014</td>\n",
       "      <td>78.473372</td>\n",
       "      <td>...</td>\n",
       "      <td>1</td>\n",
       "      <td>2</td>\n",
       "      <td>0</td>\n",
       "      <td>0</td>\n",
       "      <td>0</td>\n",
       "      <td>1</td>\n",
       "      <td>6</td>\n",
       "      <td>0</td>\n",
       "      <td>Normal</td>\n",
       "      <td>0</td>\n",
       "    </tr>\n",
       "    <tr>\n",
       "      <th>2</th>\n",
       "      <td>3</td>\n",
       "      <td>1.623129</td>\n",
       "      <td>tcp</td>\n",
       "      <td>-</td>\n",
       "      <td>FIN</td>\n",
       "      <td>8</td>\n",
       "      <td>16</td>\n",
       "      <td>364</td>\n",
       "      <td>13186</td>\n",
       "      <td>14.170161</td>\n",
       "      <td>...</td>\n",
       "      <td>1</td>\n",
       "      <td>3</td>\n",
       "      <td>0</td>\n",
       "      <td>0</td>\n",
       "      <td>0</td>\n",
       "      <td>2</td>\n",
       "      <td>6</td>\n",
       "      <td>0</td>\n",
       "      <td>Normal</td>\n",
       "      <td>0</td>\n",
       "    </tr>\n",
       "    <tr>\n",
       "      <th>3</th>\n",
       "      <td>4</td>\n",
       "      <td>1.681642</td>\n",
       "      <td>tcp</td>\n",
       "      <td>ftp</td>\n",
       "      <td>FIN</td>\n",
       "      <td>12</td>\n",
       "      <td>12</td>\n",
       "      <td>628</td>\n",
       "      <td>770</td>\n",
       "      <td>13.677108</td>\n",
       "      <td>...</td>\n",
       "      <td>1</td>\n",
       "      <td>3</td>\n",
       "      <td>1</td>\n",
       "      <td>1</td>\n",
       "      <td>0</td>\n",
       "      <td>2</td>\n",
       "      <td>1</td>\n",
       "      <td>0</td>\n",
       "      <td>Normal</td>\n",
       "      <td>0</td>\n",
       "    </tr>\n",
       "    <tr>\n",
       "      <th>4</th>\n",
       "      <td>5</td>\n",
       "      <td>0.449454</td>\n",
       "      <td>tcp</td>\n",
       "      <td>-</td>\n",
       "      <td>FIN</td>\n",
       "      <td>10</td>\n",
       "      <td>6</td>\n",
       "      <td>534</td>\n",
       "      <td>268</td>\n",
       "      <td>33.373826</td>\n",
       "      <td>...</td>\n",
       "      <td>1</td>\n",
       "      <td>40</td>\n",
       "      <td>0</td>\n",
       "      <td>0</td>\n",
       "      <td>0</td>\n",
       "      <td>2</td>\n",
       "      <td>39</td>\n",
       "      <td>0</td>\n",
       "      <td>Normal</td>\n",
       "      <td>0</td>\n",
       "    </tr>\n",
       "  </tbody>\n",
       "</table>\n",
       "<p>5 rows × 45 columns</p>\n",
       "</div>"
      ],
      "text/plain": [
       "   id       dur proto service state  spkts  dpkts  sbytes  dbytes       rate  \\\n",
       "0   1  0.121478   tcp       -   FIN      6      4     258     172  74.087490   \n",
       "1   2  0.649902   tcp       -   FIN     14     38     734   42014  78.473372   \n",
       "2   3  1.623129   tcp       -   FIN      8     16     364   13186  14.170161   \n",
       "3   4  1.681642   tcp     ftp   FIN     12     12     628     770  13.677108   \n",
       "4   5  0.449454   tcp       -   FIN     10      6     534     268  33.373826   \n",
       "\n",
       "   ...  ct_dst_sport_ltm  ct_dst_src_ltm  is_ftp_login  ct_ftp_cmd  \\\n",
       "0  ...                 1               1             0           0   \n",
       "1  ...                 1               2             0           0   \n",
       "2  ...                 1               3             0           0   \n",
       "3  ...                 1               3             1           1   \n",
       "4  ...                 1              40             0           0   \n",
       "\n",
       "   ct_flw_http_mthd  ct_src_ltm  ct_srv_dst  is_sm_ips_ports  attack_cat  \\\n",
       "0                 0           1           1                0      Normal   \n",
       "1                 0           1           6                0      Normal   \n",
       "2                 0           2           6                0      Normal   \n",
       "3                 0           2           1                0      Normal   \n",
       "4                 0           2          39                0      Normal   \n",
       "\n",
       "   label  \n",
       "0      0  \n",
       "1      0  \n",
       "2      0  \n",
       "3      0  \n",
       "4      0  \n",
       "\n",
       "[5 rows x 45 columns]"
      ]
     },
     "execution_count": 22,
     "metadata": {},
     "output_type": "execute_result"
    }
   ],
   "source": [
    "cyber_attacks.head()"
   ]
  },
  {
   "cell_type": "markdown",
   "id": "e5d5554f",
   "metadata": {},
   "source": [
    "## Exploring the Data\n",
    "\n",
    "Now that we have loaded in the data, we should look through it for missing values and features that we may need to change or manipulate."
   ]
  },
  {
   "cell_type": "code",
   "execution_count": 24,
   "id": "47abc585",
   "metadata": {},
   "outputs": [
    {
     "name": "stdout",
     "output_type": "stream",
     "text": [
      "<class 'pandas.core.frame.DataFrame'>\n",
      "RangeIndex: 175341 entries, 0 to 175340\n",
      "Data columns (total 45 columns):\n",
      " #   Column             Non-Null Count   Dtype  \n",
      "---  ------             --------------   -----  \n",
      " 0   id                 175341 non-null  int64  \n",
      " 1   dur                175341 non-null  float64\n",
      " 2   proto              175341 non-null  object \n",
      " 3   service            175341 non-null  object \n",
      " 4   state              175341 non-null  object \n",
      " 5   spkts              175341 non-null  int64  \n",
      " 6   dpkts              175341 non-null  int64  \n",
      " 7   sbytes             175341 non-null  int64  \n",
      " 8   dbytes             175341 non-null  int64  \n",
      " 9   rate               175341 non-null  float64\n",
      " 10  sttl               175341 non-null  int64  \n",
      " 11  dttl               175341 non-null  int64  \n",
      " 12  sload              175341 non-null  float64\n",
      " 13  dload              175341 non-null  float64\n",
      " 14  sloss              175341 non-null  int64  \n",
      " 15  dloss              175341 non-null  int64  \n",
      " 16  sinpkt             175341 non-null  float64\n",
      " 17  dinpkt             175341 non-null  float64\n",
      " 18  sjit               175341 non-null  float64\n",
      " 19  djit               175341 non-null  float64\n",
      " 20  swin               175341 non-null  int64  \n",
      " 21  stcpb              175341 non-null  int64  \n",
      " 22  dtcpb              175341 non-null  int64  \n",
      " 23  dwin               175341 non-null  int64  \n",
      " 24  tcprtt             175341 non-null  float64\n",
      " 25  synack             175341 non-null  float64\n",
      " 26  ackdat             175341 non-null  float64\n",
      " 27  smean              175341 non-null  int64  \n",
      " 28  dmean              175341 non-null  int64  \n",
      " 29  trans_depth        175341 non-null  int64  \n",
      " 30  response_body_len  175341 non-null  int64  \n",
      " 31  ct_srv_src         175341 non-null  int64  \n",
      " 32  ct_state_ttl       175341 non-null  int64  \n",
      " 33  ct_dst_ltm         175341 non-null  int64  \n",
      " 34  ct_src_dport_ltm   175341 non-null  int64  \n",
      " 35  ct_dst_sport_ltm   175341 non-null  int64  \n",
      " 36  ct_dst_src_ltm     175341 non-null  int64  \n",
      " 37  is_ftp_login       175341 non-null  int64  \n",
      " 38  ct_ftp_cmd         175341 non-null  int64  \n",
      " 39  ct_flw_http_mthd   175341 non-null  int64  \n",
      " 40  ct_src_ltm         175341 non-null  int64  \n",
      " 41  ct_srv_dst         175341 non-null  int64  \n",
      " 42  is_sm_ips_ports    175341 non-null  int64  \n",
      " 43  attack_cat         175341 non-null  object \n",
      " 44  label              175341 non-null  int64  \n",
      "dtypes: float64(11), int64(30), object(4)\n",
      "memory usage: 60.2+ MB\n"
     ]
    }
   ],
   "source": [
    "cyber_attacks.info()"
   ]
  },
  {
   "cell_type": "markdown",
   "id": "75d235a4",
   "metadata": {},
   "source": [
    "As we can see, the training dataset has a total of 175341 records and 45 features. Although the feature names aren't that clear, the dataset also provides another dataset explaining what each feature is. ADD LINK OF FEATURE DATASET\n",
    "\n",
    "For the target variable, we would like to use \"label\" feature since that determines whether the packet is normal or malign.\n",
    "\n",
    "In addition, all the features aren't missing any values. However, as we can see from the head(), for object types like \"service\", it seems like unknown values are replaced with \"-\". So it's worth checking out the object features to see if we need to change them."
   ]
  },
  {
   "cell_type": "markdown",
   "id": "279dfc0d-c1d1-4ad9-9bdf-ef148dea3605",
   "metadata": {},
   "source": [
    "### Checking Categorical Features"
   ]
  },
  {
   "cell_type": "code",
   "execution_count": 30,
   "id": "2fc7a57a",
   "metadata": {},
   "outputs": [
    {
     "data": {
      "text/plain": [
       "proto\n",
       "tcp       79946\n",
       "udp       63283\n",
       "unas      12084\n",
       "arp        2859\n",
       "ospf       2595\n",
       "          ...  \n",
       "rdp          98\n",
       "netblt       98\n",
       "igmp         18\n",
       "icmp         15\n",
       "rtp           1\n",
       "Name: count, Length: 133, dtype: int64"
      ]
     },
     "execution_count": 30,
     "metadata": {},
     "output_type": "execute_result"
    }
   ],
   "source": [
    "# Check proto\n",
    "cyber_attacks[\"proto\"].value_counts()"
   ]
  },
  {
   "cell_type": "markdown",
   "id": "ebecf97b-5dfb-4d83-b01a-03f7e3247c75",
   "metadata": {},
   "source": [
    "Proto stands for the transaction protocol the network packet is using. Most notably is TCP and UDP, which are the most popular protocols used today. From what we can, there are a lot of different protocols used in the dataset. It might be computationally taxing to encode all of them. Thus, perhaps it's better to save the top protocols and truncate everything else to a \"others\" category."
   ]
  },
  {
   "cell_type": "code",
   "execution_count": 35,
   "id": "ea671f1c",
   "metadata": {},
   "outputs": [
    {
     "data": {
      "text/plain": [
       "service\n",
       "-           94168\n",
       "dns         47294\n",
       "http        18724\n",
       "smtp         5058\n",
       "ftp-data     3995\n",
       "ftp          3428\n",
       "ssh          1302\n",
       "pop3         1105\n",
       "dhcp           94\n",
       "snmp           80\n",
       "ssl            56\n",
       "irc            25\n",
       "radius         12\n",
       "Name: count, dtype: int64"
      ]
     },
     "execution_count": 35,
     "metadata": {},
     "output_type": "execute_result"
    }
   ],
   "source": [
    "# Check Service\n",
    "cyber_attacks[\"service\"].value_counts()"
   ]
  },
  {
   "cell_type": "markdown",
   "id": "83d3dfa7-81e7-484a-86fa-9bfd995c2246",
   "metadata": {},
   "source": [
    "The Service feature is, as it is named, the service the network packet used. According to the feature dataset, the \"-\" value means the service is not much used. Thus, it should be fine to leave it as is. In addition, the amount of unique values isn't very large, so it should be fine to encode this feature."
   ]
  },
  {
   "cell_type": "code",
   "execution_count": 43,
   "id": "0f0da47a",
   "metadata": {},
   "outputs": [
    {
     "data": {
      "text/plain": [
       "state\n",
       "INT    82275\n",
       "FIN    77825\n",
       "CON    13152\n",
       "REQ     1991\n",
       "RST       83\n",
       "ECO       12\n",
       "PAR        1\n",
       "URN        1\n",
       "no         1\n",
       "Name: count, dtype: int64"
      ]
     },
     "execution_count": 43,
     "metadata": {},
     "output_type": "execute_result"
    }
   ],
   "source": [
    "cyber_attacks[\"state\"].value_counts()"
   ]
  },
  {
   "cell_type": "markdown",
   "id": "39a54474-76da-489a-817d-da78d900b1f4",
   "metadata": {},
   "source": [
    "According to the documentation, the state feature \"Indicates to the state and its dependent protocol\". It seems fine to leave for now. But we can probably cull the records with state less than 100."
   ]
  },
  {
   "cell_type": "code",
   "execution_count": 45,
   "id": "3031f873",
   "metadata": {},
   "outputs": [
    {
     "data": {
      "text/plain": [
       "attack_cat\n",
       "Normal            56000\n",
       "Generic           40000\n",
       "Exploits          33393\n",
       "Fuzzers           18184\n",
       "DoS               12264\n",
       "Reconnaissance    10491\n",
       "Analysis           2000\n",
       "Backdoor           1746\n",
       "Shellcode          1133\n",
       "Worms               130\n",
       "Name: count, dtype: int64"
      ]
     },
     "execution_count": 45,
     "metadata": {},
     "output_type": "execute_result"
    }
   ],
   "source": [
    "# Look at the target variable: Attack Category and Label\n",
    "cyber_attacks[\"attack_cat\"].value_counts()"
   ]
  },
  {
   "cell_type": "code",
   "execution_count": 47,
   "id": "7b7612bc",
   "metadata": {},
   "outputs": [
    {
     "data": {
      "text/plain": [
       "label\n",
       "1    119341\n",
       "0     56000\n",
       "Name: count, dtype: int64"
      ]
     },
     "execution_count": 47,
     "metadata": {},
     "output_type": "execute_result"
    }
   ],
   "source": [
    "cyber_attacks[\"label\"].value_counts()"
   ]
  },
  {
   "cell_type": "markdown",
   "id": "0a4dc793",
   "metadata": {},
   "source": [
    "As we can see, attack_cat and label are linked, with attack_cat being more descriptive on the type of attack. Thus, for our first modeling attempt, we can just use label to try and classify network packets. In future attempts, we can expand the classes to try and differentiate different cyberattacks. This can be useful because some attacks are a lot more severe than others."
   ]
  },
  {
   "cell_type": "markdown",
   "id": "e04f896b-75b8-4f3e-b442-80c508550bf3",
   "metadata": {},
   "source": [
    "### Checking Numerical Features"
   ]
  },
  {
   "cell_type": "markdown",
   "id": "1429f7ef-f766-4d78-a5ae-ff3dfa4f42c8",
   "metadata": {},
   "source": [
    "Since there are so many numerical features, we'll first use .describe() to get a bird's eye view of the data and check to see if there are any anomalies"
   ]
  },
  {
   "cell_type": "code",
   "execution_count": 54,
   "id": "f0fed603-5a3b-4066-97e7-6bfd38cfc862",
   "metadata": {},
   "outputs": [
    {
     "data": {
      "text/html": [
       "<div>\n",
       "<style scoped>\n",
       "    .dataframe tbody tr th:only-of-type {\n",
       "        vertical-align: middle;\n",
       "    }\n",
       "\n",
       "    .dataframe tbody tr th {\n",
       "        vertical-align: top;\n",
       "    }\n",
       "\n",
       "    .dataframe thead th {\n",
       "        text-align: right;\n",
       "    }\n",
       "</style>\n",
       "<table border=\"1\" class=\"dataframe\">\n",
       "  <thead>\n",
       "    <tr style=\"text-align: right;\">\n",
       "      <th></th>\n",
       "      <th>id</th>\n",
       "      <th>dur</th>\n",
       "      <th>spkts</th>\n",
       "      <th>dpkts</th>\n",
       "      <th>sbytes</th>\n",
       "      <th>dbytes</th>\n",
       "      <th>rate</th>\n",
       "      <th>sttl</th>\n",
       "      <th>dttl</th>\n",
       "      <th>sload</th>\n",
       "      <th>...</th>\n",
       "      <th>ct_src_dport_ltm</th>\n",
       "      <th>ct_dst_sport_ltm</th>\n",
       "      <th>ct_dst_src_ltm</th>\n",
       "      <th>is_ftp_login</th>\n",
       "      <th>ct_ftp_cmd</th>\n",
       "      <th>ct_flw_http_mthd</th>\n",
       "      <th>ct_src_ltm</th>\n",
       "      <th>ct_srv_dst</th>\n",
       "      <th>is_sm_ips_ports</th>\n",
       "      <th>label</th>\n",
       "    </tr>\n",
       "  </thead>\n",
       "  <tbody>\n",
       "    <tr>\n",
       "      <th>count</th>\n",
       "      <td>175341.000000</td>\n",
       "      <td>175341.000000</td>\n",
       "      <td>175341.000000</td>\n",
       "      <td>175341.000000</td>\n",
       "      <td>1.753410e+05</td>\n",
       "      <td>1.753410e+05</td>\n",
       "      <td>1.753410e+05</td>\n",
       "      <td>175341.000000</td>\n",
       "      <td>175341.000000</td>\n",
       "      <td>1.753410e+05</td>\n",
       "      <td>...</td>\n",
       "      <td>175341.000000</td>\n",
       "      <td>175341.000000</td>\n",
       "      <td>175341.000000</td>\n",
       "      <td>175341.000000</td>\n",
       "      <td>175341.000000</td>\n",
       "      <td>175341.000000</td>\n",
       "      <td>175341.000000</td>\n",
       "      <td>175341.000000</td>\n",
       "      <td>175341.000000</td>\n",
       "      <td>175341.000000</td>\n",
       "    </tr>\n",
       "    <tr>\n",
       "      <th>mean</th>\n",
       "      <td>87671.000000</td>\n",
       "      <td>1.359389</td>\n",
       "      <td>20.298664</td>\n",
       "      <td>18.969591</td>\n",
       "      <td>8.844844e+03</td>\n",
       "      <td>1.492892e+04</td>\n",
       "      <td>9.540619e+04</td>\n",
       "      <td>179.546997</td>\n",
       "      <td>79.609567</td>\n",
       "      <td>7.345403e+07</td>\n",
       "      <td>...</td>\n",
       "      <td>5.383538</td>\n",
       "      <td>4.206255</td>\n",
       "      <td>8.729881</td>\n",
       "      <td>0.014948</td>\n",
       "      <td>0.014948</td>\n",
       "      <td>0.133066</td>\n",
       "      <td>6.955789</td>\n",
       "      <td>9.100758</td>\n",
       "      <td>0.015752</td>\n",
       "      <td>0.680622</td>\n",
       "    </tr>\n",
       "    <tr>\n",
       "      <th>std</th>\n",
       "      <td>50616.731112</td>\n",
       "      <td>6.480249</td>\n",
       "      <td>136.887597</td>\n",
       "      <td>110.258271</td>\n",
       "      <td>1.747656e+05</td>\n",
       "      <td>1.436542e+05</td>\n",
       "      <td>1.654010e+05</td>\n",
       "      <td>102.940011</td>\n",
       "      <td>110.506863</td>\n",
       "      <td>1.883574e+08</td>\n",
       "      <td>...</td>\n",
       "      <td>8.047104</td>\n",
       "      <td>5.783585</td>\n",
       "      <td>10.956186</td>\n",
       "      <td>0.126048</td>\n",
       "      <td>0.126048</td>\n",
       "      <td>0.701208</td>\n",
       "      <td>8.321493</td>\n",
       "      <td>10.756952</td>\n",
       "      <td>0.124516</td>\n",
       "      <td>0.466237</td>\n",
       "    </tr>\n",
       "    <tr>\n",
       "      <th>min</th>\n",
       "      <td>1.000000</td>\n",
       "      <td>0.000000</td>\n",
       "      <td>1.000000</td>\n",
       "      <td>0.000000</td>\n",
       "      <td>2.800000e+01</td>\n",
       "      <td>0.000000e+00</td>\n",
       "      <td>0.000000e+00</td>\n",
       "      <td>0.000000</td>\n",
       "      <td>0.000000</td>\n",
       "      <td>0.000000e+00</td>\n",
       "      <td>...</td>\n",
       "      <td>1.000000</td>\n",
       "      <td>1.000000</td>\n",
       "      <td>1.000000</td>\n",
       "      <td>0.000000</td>\n",
       "      <td>0.000000</td>\n",
       "      <td>0.000000</td>\n",
       "      <td>1.000000</td>\n",
       "      <td>1.000000</td>\n",
       "      <td>0.000000</td>\n",
       "      <td>0.000000</td>\n",
       "    </tr>\n",
       "    <tr>\n",
       "      <th>25%</th>\n",
       "      <td>43836.000000</td>\n",
       "      <td>0.000008</td>\n",
       "      <td>2.000000</td>\n",
       "      <td>0.000000</td>\n",
       "      <td>1.140000e+02</td>\n",
       "      <td>0.000000e+00</td>\n",
       "      <td>3.278614e+01</td>\n",
       "      <td>62.000000</td>\n",
       "      <td>0.000000</td>\n",
       "      <td>1.305334e+04</td>\n",
       "      <td>...</td>\n",
       "      <td>1.000000</td>\n",
       "      <td>1.000000</td>\n",
       "      <td>1.000000</td>\n",
       "      <td>0.000000</td>\n",
       "      <td>0.000000</td>\n",
       "      <td>0.000000</td>\n",
       "      <td>2.000000</td>\n",
       "      <td>2.000000</td>\n",
       "      <td>0.000000</td>\n",
       "      <td>0.000000</td>\n",
       "    </tr>\n",
       "    <tr>\n",
       "      <th>50%</th>\n",
       "      <td>87671.000000</td>\n",
       "      <td>0.001582</td>\n",
       "      <td>2.000000</td>\n",
       "      <td>2.000000</td>\n",
       "      <td>4.300000e+02</td>\n",
       "      <td>1.640000e+02</td>\n",
       "      <td>3.225807e+03</td>\n",
       "      <td>254.000000</td>\n",
       "      <td>29.000000</td>\n",
       "      <td>8.796748e+05</td>\n",
       "      <td>...</td>\n",
       "      <td>1.000000</td>\n",
       "      <td>1.000000</td>\n",
       "      <td>3.000000</td>\n",
       "      <td>0.000000</td>\n",
       "      <td>0.000000</td>\n",
       "      <td>0.000000</td>\n",
       "      <td>3.000000</td>\n",
       "      <td>4.000000</td>\n",
       "      <td>0.000000</td>\n",
       "      <td>1.000000</td>\n",
       "    </tr>\n",
       "    <tr>\n",
       "      <th>75%</th>\n",
       "      <td>131506.000000</td>\n",
       "      <td>0.668069</td>\n",
       "      <td>12.000000</td>\n",
       "      <td>10.000000</td>\n",
       "      <td>1.418000e+03</td>\n",
       "      <td>1.102000e+03</td>\n",
       "      <td>1.250000e+05</td>\n",
       "      <td>254.000000</td>\n",
       "      <td>252.000000</td>\n",
       "      <td>8.888889e+07</td>\n",
       "      <td>...</td>\n",
       "      <td>5.000000</td>\n",
       "      <td>3.000000</td>\n",
       "      <td>12.000000</td>\n",
       "      <td>0.000000</td>\n",
       "      <td>0.000000</td>\n",
       "      <td>0.000000</td>\n",
       "      <td>9.000000</td>\n",
       "      <td>12.000000</td>\n",
       "      <td>0.000000</td>\n",
       "      <td>1.000000</td>\n",
       "    </tr>\n",
       "    <tr>\n",
       "      <th>max</th>\n",
       "      <td>175341.000000</td>\n",
       "      <td>59.999989</td>\n",
       "      <td>9616.000000</td>\n",
       "      <td>10974.000000</td>\n",
       "      <td>1.296523e+07</td>\n",
       "      <td>1.465555e+07</td>\n",
       "      <td>1.000000e+06</td>\n",
       "      <td>255.000000</td>\n",
       "      <td>254.000000</td>\n",
       "      <td>5.988000e+09</td>\n",
       "      <td>...</td>\n",
       "      <td>51.000000</td>\n",
       "      <td>46.000000</td>\n",
       "      <td>65.000000</td>\n",
       "      <td>4.000000</td>\n",
       "      <td>4.000000</td>\n",
       "      <td>30.000000</td>\n",
       "      <td>60.000000</td>\n",
       "      <td>62.000000</td>\n",
       "      <td>1.000000</td>\n",
       "      <td>1.000000</td>\n",
       "    </tr>\n",
       "  </tbody>\n",
       "</table>\n",
       "<p>8 rows × 41 columns</p>\n",
       "</div>"
      ],
      "text/plain": [
       "                  id            dur          spkts          dpkts  \\\n",
       "count  175341.000000  175341.000000  175341.000000  175341.000000   \n",
       "mean    87671.000000       1.359389      20.298664      18.969591   \n",
       "std     50616.731112       6.480249     136.887597     110.258271   \n",
       "min         1.000000       0.000000       1.000000       0.000000   \n",
       "25%     43836.000000       0.000008       2.000000       0.000000   \n",
       "50%     87671.000000       0.001582       2.000000       2.000000   \n",
       "75%    131506.000000       0.668069      12.000000      10.000000   \n",
       "max    175341.000000      59.999989    9616.000000   10974.000000   \n",
       "\n",
       "             sbytes        dbytes          rate           sttl           dttl  \\\n",
       "count  1.753410e+05  1.753410e+05  1.753410e+05  175341.000000  175341.000000   \n",
       "mean   8.844844e+03  1.492892e+04  9.540619e+04     179.546997      79.609567   \n",
       "std    1.747656e+05  1.436542e+05  1.654010e+05     102.940011     110.506863   \n",
       "min    2.800000e+01  0.000000e+00  0.000000e+00       0.000000       0.000000   \n",
       "25%    1.140000e+02  0.000000e+00  3.278614e+01      62.000000       0.000000   \n",
       "50%    4.300000e+02  1.640000e+02  3.225807e+03     254.000000      29.000000   \n",
       "75%    1.418000e+03  1.102000e+03  1.250000e+05     254.000000     252.000000   \n",
       "max    1.296523e+07  1.465555e+07  1.000000e+06     255.000000     254.000000   \n",
       "\n",
       "              sload  ...  ct_src_dport_ltm  ct_dst_sport_ltm  ct_dst_src_ltm  \\\n",
       "count  1.753410e+05  ...     175341.000000     175341.000000   175341.000000   \n",
       "mean   7.345403e+07  ...          5.383538          4.206255        8.729881   \n",
       "std    1.883574e+08  ...          8.047104          5.783585       10.956186   \n",
       "min    0.000000e+00  ...          1.000000          1.000000        1.000000   \n",
       "25%    1.305334e+04  ...          1.000000          1.000000        1.000000   \n",
       "50%    8.796748e+05  ...          1.000000          1.000000        3.000000   \n",
       "75%    8.888889e+07  ...          5.000000          3.000000       12.000000   \n",
       "max    5.988000e+09  ...         51.000000         46.000000       65.000000   \n",
       "\n",
       "        is_ftp_login     ct_ftp_cmd  ct_flw_http_mthd     ct_src_ltm  \\\n",
       "count  175341.000000  175341.000000     175341.000000  175341.000000   \n",
       "mean        0.014948       0.014948          0.133066       6.955789   \n",
       "std         0.126048       0.126048          0.701208       8.321493   \n",
       "min         0.000000       0.000000          0.000000       1.000000   \n",
       "25%         0.000000       0.000000          0.000000       2.000000   \n",
       "50%         0.000000       0.000000          0.000000       3.000000   \n",
       "75%         0.000000       0.000000          0.000000       9.000000   \n",
       "max         4.000000       4.000000         30.000000      60.000000   \n",
       "\n",
       "          ct_srv_dst  is_sm_ips_ports          label  \n",
       "count  175341.000000    175341.000000  175341.000000  \n",
       "mean        9.100758         0.015752       0.680622  \n",
       "std        10.756952         0.124516       0.466237  \n",
       "min         1.000000         0.000000       0.000000  \n",
       "25%         2.000000         0.000000       0.000000  \n",
       "50%         4.000000         0.000000       1.000000  \n",
       "75%        12.000000         0.000000       1.000000  \n",
       "max        62.000000         1.000000       1.000000  \n",
       "\n",
       "[8 rows x 41 columns]"
      ]
     },
     "execution_count": 54,
     "metadata": {},
     "output_type": "execute_result"
    }
   ],
   "source": [
    "cyber_attacks.describe()"
   ]
  },
  {
   "cell_type": "markdown",
   "id": "5b8e1bda-1c23-43e9-9413-c78d30d16da6",
   "metadata": {},
   "source": [
    "Something that's interesting is how some minimum values are just 0, which could be a recording error. For example, some packets sent are just 0, which doesn't make sense."
   ]
  },
  {
   "cell_type": "code",
   "execution_count": 58,
   "id": "48b50eec-41bf-4243-abed-c15883ce2ed0",
   "metadata": {},
   "outputs": [
    {
     "data": {
      "text/html": [
       "<div>\n",
       "<style scoped>\n",
       "    .dataframe tbody tr th:only-of-type {\n",
       "        vertical-align: middle;\n",
       "    }\n",
       "\n",
       "    .dataframe tbody tr th {\n",
       "        vertical-align: top;\n",
       "    }\n",
       "\n",
       "    .dataframe thead th {\n",
       "        text-align: right;\n",
       "    }\n",
       "</style>\n",
       "<table border=\"1\" class=\"dataframe\">\n",
       "  <thead>\n",
       "    <tr style=\"text-align: right;\">\n",
       "      <th></th>\n",
       "      <th>id</th>\n",
       "      <th>dur</th>\n",
       "      <th>proto</th>\n",
       "      <th>service</th>\n",
       "      <th>state</th>\n",
       "      <th>spkts</th>\n",
       "      <th>dpkts</th>\n",
       "      <th>sbytes</th>\n",
       "      <th>dbytes</th>\n",
       "      <th>rate</th>\n",
       "      <th>...</th>\n",
       "      <th>ct_dst_sport_ltm</th>\n",
       "      <th>ct_dst_src_ltm</th>\n",
       "      <th>is_ftp_login</th>\n",
       "      <th>ct_ftp_cmd</th>\n",
       "      <th>ct_flw_http_mthd</th>\n",
       "      <th>ct_src_ltm</th>\n",
       "      <th>ct_srv_dst</th>\n",
       "      <th>is_sm_ips_ports</th>\n",
       "      <th>attack_cat</th>\n",
       "      <th>label</th>\n",
       "    </tr>\n",
       "  </thead>\n",
       "  <tbody>\n",
       "    <tr>\n",
       "      <th>57</th>\n",
       "      <td>58</td>\n",
       "      <td>0.0</td>\n",
       "      <td>arp</td>\n",
       "      <td>-</td>\n",
       "      <td>INT</td>\n",
       "      <td>1</td>\n",
       "      <td>0</td>\n",
       "      <td>46</td>\n",
       "      <td>0</td>\n",
       "      <td>0.0</td>\n",
       "      <td>...</td>\n",
       "      <td>1</td>\n",
       "      <td>1</td>\n",
       "      <td>0</td>\n",
       "      <td>0</td>\n",
       "      <td>0</td>\n",
       "      <td>1</td>\n",
       "      <td>2</td>\n",
       "      <td>1</td>\n",
       "      <td>Normal</td>\n",
       "      <td>0</td>\n",
       "    </tr>\n",
       "    <tr>\n",
       "      <th>58</th>\n",
       "      <td>59</td>\n",
       "      <td>0.0</td>\n",
       "      <td>arp</td>\n",
       "      <td>-</td>\n",
       "      <td>INT</td>\n",
       "      <td>1</td>\n",
       "      <td>0</td>\n",
       "      <td>46</td>\n",
       "      <td>0</td>\n",
       "      <td>0.0</td>\n",
       "      <td>...</td>\n",
       "      <td>1</td>\n",
       "      <td>1</td>\n",
       "      <td>0</td>\n",
       "      <td>0</td>\n",
       "      <td>0</td>\n",
       "      <td>1</td>\n",
       "      <td>1</td>\n",
       "      <td>1</td>\n",
       "      <td>Normal</td>\n",
       "      <td>0</td>\n",
       "    </tr>\n",
       "    <tr>\n",
       "      <th>938</th>\n",
       "      <td>939</td>\n",
       "      <td>0.0</td>\n",
       "      <td>arp</td>\n",
       "      <td>-</td>\n",
       "      <td>INT</td>\n",
       "      <td>1</td>\n",
       "      <td>0</td>\n",
       "      <td>46</td>\n",
       "      <td>0</td>\n",
       "      <td>0.0</td>\n",
       "      <td>...</td>\n",
       "      <td>1</td>\n",
       "      <td>1</td>\n",
       "      <td>0</td>\n",
       "      <td>0</td>\n",
       "      <td>0</td>\n",
       "      <td>1</td>\n",
       "      <td>1</td>\n",
       "      <td>1</td>\n",
       "      <td>Normal</td>\n",
       "      <td>0</td>\n",
       "    </tr>\n",
       "    <tr>\n",
       "      <th>939</th>\n",
       "      <td>940</td>\n",
       "      <td>0.0</td>\n",
       "      <td>arp</td>\n",
       "      <td>-</td>\n",
       "      <td>INT</td>\n",
       "      <td>1</td>\n",
       "      <td>0</td>\n",
       "      <td>46</td>\n",
       "      <td>0</td>\n",
       "      <td>0.0</td>\n",
       "      <td>...</td>\n",
       "      <td>1</td>\n",
       "      <td>1</td>\n",
       "      <td>0</td>\n",
       "      <td>0</td>\n",
       "      <td>0</td>\n",
       "      <td>1</td>\n",
       "      <td>1</td>\n",
       "      <td>1</td>\n",
       "      <td>Normal</td>\n",
       "      <td>0</td>\n",
       "    </tr>\n",
       "    <tr>\n",
       "      <th>3312</th>\n",
       "      <td>3313</td>\n",
       "      <td>0.0</td>\n",
       "      <td>arp</td>\n",
       "      <td>-</td>\n",
       "      <td>INT</td>\n",
       "      <td>1</td>\n",
       "      <td>0</td>\n",
       "      <td>46</td>\n",
       "      <td>0</td>\n",
       "      <td>0.0</td>\n",
       "      <td>...</td>\n",
       "      <td>1</td>\n",
       "      <td>1</td>\n",
       "      <td>0</td>\n",
       "      <td>0</td>\n",
       "      <td>0</td>\n",
       "      <td>1</td>\n",
       "      <td>1</td>\n",
       "      <td>1</td>\n",
       "      <td>Normal</td>\n",
       "      <td>0</td>\n",
       "    </tr>\n",
       "  </tbody>\n",
       "</table>\n",
       "<p>5 rows × 45 columns</p>\n",
       "</div>"
      ],
      "text/plain": [
       "        id  dur proto service state  spkts  dpkts  sbytes  dbytes  rate  ...  \\\n",
       "57      58  0.0   arp       -   INT      1      0      46       0   0.0  ...   \n",
       "58      59  0.0   arp       -   INT      1      0      46       0   0.0  ...   \n",
       "938    939  0.0   arp       -   INT      1      0      46       0   0.0  ...   \n",
       "939    940  0.0   arp       -   INT      1      0      46       0   0.0  ...   \n",
       "3312  3313  0.0   arp       -   INT      1      0      46       0   0.0  ...   \n",
       "\n",
       "      ct_dst_sport_ltm  ct_dst_src_ltm  is_ftp_login  ct_ftp_cmd  \\\n",
       "57                   1               1             0           0   \n",
       "58                   1               1             0           0   \n",
       "938                  1               1             0           0   \n",
       "939                  1               1             0           0   \n",
       "3312                 1               1             0           0   \n",
       "\n",
       "      ct_flw_http_mthd  ct_src_ltm  ct_srv_dst  is_sm_ips_ports  attack_cat  \\\n",
       "57                   0           1           2                1      Normal   \n",
       "58                   0           1           1                1      Normal   \n",
       "938                  0           1           1                1      Normal   \n",
       "939                  0           1           1                1      Normal   \n",
       "3312                 0           1           1                1      Normal   \n",
       "\n",
       "      label  \n",
       "57        0  \n",
       "58        0  \n",
       "938       0  \n",
       "939       0  \n",
       "3312      0  \n",
       "\n",
       "[5 rows x 45 columns]"
      ]
     },
     "execution_count": 58,
     "metadata": {},
     "output_type": "execute_result"
    }
   ],
   "source": [
    "# Examine some records with values of 0\n",
    "cyber_attacks[cyber_attacks[\"dur\"] == 0].head()"
   ]
  },
  {
   "cell_type": "markdown",
   "id": "4278b3a5-e524-46c3-bbbf-6ecbde54fdd4",
   "metadata": {},
   "source": [
    "As we can see, perhaps the time it took to send a singular packet (spkts) was so short that the record duration (dur) was rounded down to 0. Another thing to note is that perhaps each packet is source -> destination or destination -> source?"
   ]
  },
  {
   "cell_type": "code",
   "execution_count": 61,
   "id": "5904f986-3583-4e3e-903c-9448b5e54fe1",
   "metadata": {},
   "outputs": [],
   "source": [
    "# See if packets can have both source and destination packets"
   ]
  },
  {
   "cell_type": "code",
   "execution_count": 65,
   "id": "62b39006-cdcd-4774-a613-4d13418784ce",
   "metadata": {},
   "outputs": [
    {
     "data": {
      "text/plain": [
       "(91059, 45)"
      ]
     },
     "execution_count": 65,
     "metadata": {},
     "output_type": "execute_result"
    }
   ],
   "source": [
    "cyber_attacks[(cyber_attacks[\"dpkts\"] > 0) & (cyber_attacks[\"spkts\"] > 0)].shape"
   ]
  },
  {
   "cell_type": "markdown",
   "id": "ed88d8e7-5302-4395-a574-5add92b40804",
   "metadata": {},
   "source": [
    "Interestingly, there are only 91059 records of packets from both source and destination. Perhaps this is due to the network protocol used for the packet. From this, it seems like having 0 as a value isn't a huge deal for some of the data since it might be one-way."
   ]
  },
  {
   "cell_type": "markdown",
   "id": "19750f17",
   "metadata": {},
   "source": [
    "### Summary of Exploration Results"
   ]
  },
  {
   "cell_type": "markdown",
   "id": "3d55b7af",
   "metadata": {},
   "source": [
    "From what we found, the data is very well prepared, with nothing missing. In addition, the target variable can be represented by both the \"label\" and \"attack_cat\" features. Both are interlinked, with \"attack_cat\" being more descriptive on what kind of attack/type the packet is and \"label\" simply designating the packet as malign or normal.\n",
    "\n",
    "Besides that, we discovered a few things we need to do when cleaning the data:\n",
    "1) The \"Proto\" feature has over 100 unique values. Thus, it might be costly to encode it. So, we should truncate it to only the top frequent protocols instead\n",
    "2) We need to remove id from the dataset\n",
    "3) When preparing the data, we need to remove both \"label\" and \"attack_cat\" since they directly tie to the target variable."
   ]
  },
  {
   "cell_type": "markdown",
   "id": "29e1e1b6",
   "metadata": {},
   "source": [
    "## Preparing/Engineering the Features"
   ]
  },
  {
   "cell_type": "markdown",
   "id": "88918ee6",
   "metadata": {},
   "source": [
    "From what we discovered from our exploration, we now need to prepare the data for training."
   ]
  },
  {
   "cell_type": "markdown",
   "id": "539b275a-f05f-4174-83f9-7c46edfe3085",
   "metadata": {},
   "source": [
    "### Preparing the Data"
   ]
  },
  {
   "cell_type": "code",
   "execution_count": 73,
   "id": "2a8ab564",
   "metadata": {},
   "outputs": [
    {
     "name": "stdout",
     "output_type": "stream",
     "text": [
      "<class 'pandas.core.frame.DataFrame'>\n",
      "RangeIndex: 175341 entries, 0 to 175340\n",
      "Data columns (total 44 columns):\n",
      " #   Column             Non-Null Count   Dtype  \n",
      "---  ------             --------------   -----  \n",
      " 0   dur                175341 non-null  float64\n",
      " 1   proto              175341 non-null  object \n",
      " 2   service            175341 non-null  object \n",
      " 3   state              175341 non-null  object \n",
      " 4   spkts              175341 non-null  int64  \n",
      " 5   dpkts              175341 non-null  int64  \n",
      " 6   sbytes             175341 non-null  int64  \n",
      " 7   dbytes             175341 non-null  int64  \n",
      " 8   rate               175341 non-null  float64\n",
      " 9   sttl               175341 non-null  int64  \n",
      " 10  dttl               175341 non-null  int64  \n",
      " 11  sload              175341 non-null  float64\n",
      " 12  dload              175341 non-null  float64\n",
      " 13  sloss              175341 non-null  int64  \n",
      " 14  dloss              175341 non-null  int64  \n",
      " 15  sinpkt             175341 non-null  float64\n",
      " 16  dinpkt             175341 non-null  float64\n",
      " 17  sjit               175341 non-null  float64\n",
      " 18  djit               175341 non-null  float64\n",
      " 19  swin               175341 non-null  int64  \n",
      " 20  stcpb              175341 non-null  int64  \n",
      " 21  dtcpb              175341 non-null  int64  \n",
      " 22  dwin               175341 non-null  int64  \n",
      " 23  tcprtt             175341 non-null  float64\n",
      " 24  synack             175341 non-null  float64\n",
      " 25  ackdat             175341 non-null  float64\n",
      " 26  smean              175341 non-null  int64  \n",
      " 27  dmean              175341 non-null  int64  \n",
      " 28  trans_depth        175341 non-null  int64  \n",
      " 29  response_body_len  175341 non-null  int64  \n",
      " 30  ct_srv_src         175341 non-null  int64  \n",
      " 31  ct_state_ttl       175341 non-null  int64  \n",
      " 32  ct_dst_ltm         175341 non-null  int64  \n",
      " 33  ct_src_dport_ltm   175341 non-null  int64  \n",
      " 34  ct_dst_sport_ltm   175341 non-null  int64  \n",
      " 35  ct_dst_src_ltm     175341 non-null  int64  \n",
      " 36  is_ftp_login       175341 non-null  int64  \n",
      " 37  ct_ftp_cmd         175341 non-null  int64  \n",
      " 38  ct_flw_http_mthd   175341 non-null  int64  \n",
      " 39  ct_src_ltm         175341 non-null  int64  \n",
      " 40  ct_srv_dst         175341 non-null  int64  \n",
      " 41  is_sm_ips_ports    175341 non-null  int64  \n",
      " 42  attack_cat         175341 non-null  object \n",
      " 43  label              175341 non-null  int64  \n",
      "dtypes: float64(11), int64(29), object(4)\n",
      "memory usage: 58.9+ MB\n"
     ]
    }
   ],
   "source": [
    "# Remove the id\n",
    "filtered_attacks = cyber_attacks.drop( [\"id\"], axis = 1 )\n",
    "filtered_attacks.info()"
   ]
  },
  {
   "cell_type": "code",
   "execution_count": 132,
   "id": "62d0a146-a6a3-4ccf-bc27-48213f16f195",
   "metadata": {},
   "outputs": [
    {
     "data": {
      "text/plain": [
       "proto\n",
       "tcp       79946\n",
       "udp       63283\n",
       "unas      12084\n",
       "arp        2859\n",
       "ospf       2595\n",
       "sctp       1150\n",
       "any         300\n",
       "gre         225\n",
       "sun-nd      201\n",
       "ipv6        201\n",
       "Name: count, dtype: int64"
      ]
     },
     "execution_count": 132,
     "metadata": {},
     "output_type": "execute_result"
    }
   ],
   "source": [
    "# Truncate proto feature\n",
    "filtered_attacks[\"proto\"].value_counts()[:10]"
   ]
  },
  {
   "cell_type": "markdown",
   "id": "a9a369f5-b9ab-49bb-8612-02004444ac8f",
   "metadata": {},
   "source": [
    "We can just use all protocols with more than 1000 records, everything else will become \"other\""
   ]
  },
  {
   "cell_type": "code",
   "execution_count": 155,
   "id": "e529dee1-0426-4af6-bf0e-0ffd95eba586",
   "metadata": {},
   "outputs": [
    {
     "name": "stdout",
     "output_type": "stream",
     "text": [
      "protocol\n",
      "tcp      79946\n",
      "udp      63283\n",
      "other    13424\n",
      "unas     12084\n",
      "arp       2859\n",
      "ospf      2595\n",
      "sctp      1150\n",
      "Name: count, dtype: int64\n",
      "(175341, 45)\n"
     ]
    }
   ],
   "source": [
    "proto_gt_1000 = filtered_attacks[\"proto\"].value_counts() > 1000\n",
    "retained_proto = set( proto_gt_1000.index[proto_gt_1000] )\n",
    "filtered_attacks[\"protocol\"] = filtered_attacks[\"proto\"].apply( lambda x : x if x in retained_proto else \"other\" )\n",
    "print( filtered_attacks[\"protocol\"].value_counts() )"
   ]
  },
  {
   "cell_type": "markdown",
   "id": "76ae9c4b-b6ef-4c67-b0f9-bda9bb077b37",
   "metadata": {},
   "source": [
    "Now we cut down the protocols to just 7 unique values instead of 100. This will probably improve the fitting time extraordinarily."
   ]
  },
  {
   "cell_type": "markdown",
   "id": "991ade44-18a9-491e-bcdc-44fae9600ce8",
   "metadata": {},
   "source": [
    "### Engineering the features\n",
    "Now we want to split the data into features and target variable. In addition, we want to create the transformer to transform all the data into usable features."
   ]
  },
  {
   "cell_type": "markdown",
   "id": "de3b8d25-b670-4222-ac0b-46e07e4806fb",
   "metadata": {},
   "source": [
    "#### Transformer\n",
    "Now we create the transformer to transform our data"
   ]
  },
  {
   "cell_type": "code",
   "execution_count": 75,
   "id": "727bf91f-c5ee-41ea-8f4e-cc140fa1b3c5",
   "metadata": {},
   "outputs": [],
   "source": [
    "# We use the column transformer to transform our data\n",
    "from sklearn.compose import make_column_selector, make_column_transformer\n",
    "from sklearn.preprocessing import StandardScaler, OneHotEncoder\n",
    "\n",
    "# We use OneHotEncoding for all string features and Standard Scaler for all numerical features\n",
    "# We skip the cyclical features since they don't need to be scaled.\n",
    "transformer = make_column_transformer( \n",
    "    ( OneHotEncoder( drop = \"if_binary\", handle_unknown='ignore' ), make_column_selector( dtype_include=object ) ),\n",
    "    remainder = StandardScaler() )"
   ]
  },
  {
   "cell_type": "markdown",
   "id": "817625cc-6865-4ec7-85ea-32c828a8ab04",
   "metadata": {},
   "source": [
    "### Train / Test Split\n",
    "Now that we finished cleaning and engineering the data, we can use the given training set and testing set since they're already provided. Only thing we need to do is filter out id and the target variables. For this first attempt, we will just be using \"label\" for classification."
   ]
  },
  {
   "cell_type": "code",
   "execution_count": 164,
   "id": "97f6a574-09fd-4e51-bc8b-7075970e54a5",
   "metadata": {},
   "outputs": [
    {
     "name": "stdout",
     "output_type": "stream",
     "text": [
      "175341 82332 175341 82332\n"
     ]
    }
   ],
   "source": [
    "test_data = pd.read_csv( \"data/UNSW_NB15_testing-set.csv\" )\n",
    "test_data[\"protocol\"] = test_data[\"proto\"].apply( lambda x : x if x in retained_proto else \"other\" )\n",
    "test_data = test_data.drop( \"id\", axis = 1 )\n",
    "\n",
    "X_train, y_train = filtered_attacks.drop( [\"label\",\"attack_cat\",\"proto\"], axis = 1 ), filtered_attacks[\"label\"]\n",
    "X_test, y_test = test_data.drop( [\"label\",\"attack_cat\"], axis = 1 ), test_data[\"label\"]\n",
    "\n",
    "print( len(X_train), len(X_test), len(y_train), len(y_test) )"
   ]
  },
  {
   "cell_type": "markdown",
   "id": "324ef0fd-ad4e-4d37-a45f-8c19014e1787",
   "metadata": {},
   "source": [
    "As we can see, the train-test split is around 66-33. Thus, if our models aren't performing that well, it might be worth changing the proportions a little."
   ]
  },
  {
   "cell_type": "markdown",
   "id": "c52dd0fc-6bc4-4b66-a2eb-eb3f3b63f407",
   "metadata": {},
   "source": [
    "## Baseline Model\n",
    "Now we can start training models. The first thing we should do is see what the baseline is. What is the bare minimum that our models need to beat?"
   ]
  },
  {
   "cell_type": "code",
   "execution_count": 283,
   "id": "b290e70c-f8b7-429c-8c87-952c66b19a08",
   "metadata": {},
   "outputs": [
    {
     "name": "stdout",
     "output_type": "stream",
     "text": [
      "Training Accuracy 0.6806223302022916\n",
      "Testing Accuracy 0.5506000097167566\n"
     ]
    }
   ],
   "source": [
    "# The baseline model should just be a model that returns the most frequent value\n",
    "# We use the Dummy Classifier to do this\n",
    "from sklearn.dummy import DummyClassifier\n",
    "from sklearn.metrics import accuracy_score\n",
    "import time\n",
    "\n",
    "start = time.time()\n",
    "baseline_model = DummyClassifier().fit( X_train, y_train )\n",
    "end = time.time()\n",
    "\n",
    "baseline_fittime = end - start\n",
    "\n",
    "baseline_trainScore = accuracy_score( y_train, baseline_model.predict( X_train ) )\n",
    "baseline_testScore = accuracy_score( y_test, baseline_model.predict( X_test ) )                       \n",
    "\n",
    "print( \"Training Accuracy\", baseline_trainScore )\n",
    "print( \"Testing Accuracy\", baseline_testScore )"
   ]
  },
  {
   "cell_type": "markdown",
   "id": "9987de34-18a3-4fd6-952d-b9b1457fea62",
   "metadata": {},
   "source": [
    "As we can see, our model needs to beat an accuracy of 55%. As for recall, we can't really use the baseline model for the baseline recall since it will simply have a recall of 1 (the majority of labels are malign packets). However, we do want to try aiming for recall and predict as many malign packets as possible."
   ]
  },
  {
   "cell_type": "code",
   "execution_count": 267,
   "id": "fe3fbd5c-d7bf-497a-a38f-66eecfa8e011",
   "metadata": {},
   "outputs": [
    {
     "name": "stdout",
     "output_type": "stream",
     "text": [
      "Training Recall 1.0\n",
      "Testing Recall 1.0\n"
     ]
    }
   ],
   "source": [
    "baseline_recall_trainScore = recall_score( y_train, baseline_model.predict( X_train ) )\n",
    "baseline_recall_testScore = recall_score( y_train, baseline_model.predict( X_train ) )\n",
    "\n",
    "print( \"Training Recall\", baseline_recall_trainScore )\n",
    "print( \"Testing Recall\", baseline_recall_testScore )"
   ]
  },
  {
   "cell_type": "markdown",
   "id": "632635c2-29ea-443d-ae1c-54f1e7bee428",
   "metadata": {},
   "source": [
    "## First Attempt At Training Models\n",
    "For our first attempt at training models, we will be using K-Nearest Neighbors, Decision Tree, Logistic Regression, and SVM models. For each one, we'll be training while doing a small hyperparameter search to optimize each model a little bit. In addition, we'll look at recall as well since we want to pay attention to how well we identify malign packets."
   ]
  },
  {
   "cell_type": "markdown",
   "id": "5a6abbb2-28c7-4f93-85dd-8fb25372cea3",
   "metadata": {},
   "source": [
    "### Simple Model Testing\n",
    "Before going head deep into model training and hyperparameter searching, we'll first train a simple Logistic Regression model to see how long fitting takes and how accurate the model will be:"
   ]
  },
  {
   "cell_type": "code",
   "execution_count": 168,
   "id": "f54d09e1-c5a7-477b-837e-dc20f9cbabf9",
   "metadata": {},
   "outputs": [
    {
     "name": "stdout",
     "output_type": "stream",
     "text": [
      "Training Accuracy:  0.935326021865964\n",
      "Training Recall:  0.9876572175530622\n",
      "Testing Accuracy:  0.8092843608803382\n",
      "Testing Recall:  0.9718300538251124\n",
      "Fitting Time:  3.383155345916748\n"
     ]
    }
   ],
   "source": [
    "from sklearn.pipeline import Pipeline\n",
    "from sklearn.metrics import recall_score\n",
    "import warnings\n",
    "\n",
    "warnings.filterwarnings(\"ignore\", category=UserWarning)\n",
    "\n",
    "start = time.time()\n",
    "pipe = Pipeline([\n",
    "    ( \"transform\", transformer ),\n",
    "    ( \"lgr\", LogisticRegression( max_iter = 1000 ) )\n",
    "]).fit( X_train, y_train )\n",
    "end = time.time()\n",
    "\n",
    "fit_time = end - start\n",
    "lgr_trainAccScore = accuracy_score( y_train, pipe.predict( X_train ) )\n",
    "lgr_testAccScore = accuracy_score( y_test, pipe.predict( X_test ) )\n",
    "lgr_trainRecallScore = recall_score( y_train, pipe.predict( X_train ) )\n",
    "lgr_testRecallScore = recall_score( y_test, pipe.predict( X_test ) )\n",
    "\n",
    "print( \"Training Accuracy: \", lgr_trainAccScore )\n",
    "print( \"Training Recall: \", lgr_trainRecallScore )\n",
    "print( \"Testing Accuracy: \", lgr_testAccScore )\n",
    "print( \"Testing Recall: \", lgr_testRecallScore )\n",
    "print( \"Fitting Time: \", fit_time )"
   ]
  },
  {
   "cell_type": "markdown",
   "id": "c98b707e-6eb9-4850-9726-a4ca6b8ebb58",
   "metadata": {},
   "source": [
    "It looks like the fitting time is pretty long, perhaps due to the amount of features created from the encoding. Thus, it might take a while to do hyperparameter searching. Besides the fitting time, we can see that the basic model already does very well compared to the baseline model with an accuraccy of 81% and a recall of 97%. It's impressive how high the recall is since we're aiming to have as high recall as possible."
   ]
  },
  {
   "cell_type": "markdown",
   "id": "dca70559-41e4-40f3-990d-6b9f682c7e2d",
   "metadata": {},
   "source": [
    "### Hyperparameter Searching"
   ]
  },
  {
   "cell_type": "markdown",
   "id": "b633252c-fd94-438c-90fa-6c7ad9d500d5",
   "metadata": {},
   "source": [
    "Now that we got a sneak peak at how the models will perform, we'll start training KNN, Logistic Regression, Decision Trees, SVC and searching hyperparameters for them. For our scoring metric, we'll use recall since we want to maximize the amount of malign packets we can identify. It's fine if we mistake a normal packet for a malign packet since we're just being careful. However, if we identify a malign packet as normal, the consequences could be severe."
   ]
  },
  {
   "cell_type": "code",
   "execution_count": 185,
   "id": "a7243d88-636b-48ff-9924-cbc0ee9ab184",
   "metadata": {},
   "outputs": [],
   "source": [
    "# To save writing redundant code, we create a method to train and test each model\n",
    "from sklearn.model_selection import GridSearchCV\n",
    "\n",
    "def searchTrainAndScore( classifier, param_grid ):\n",
    "    \n",
    "    pipe = Pipeline([\n",
    "        ( \"transform\", transformer ),\n",
    "        ( \"classifier\", classifier )\n",
    "    ])\n",
    "    \n",
    "    grid = GridSearchCV( pipe, param_grid, scoring = \"recall\", n_jobs = -1 )\n",
    "    grid.fit( X_train, y_train )\n",
    "    \n",
    "    trainScore = grid.score( X_train, y_train )\n",
    "    testScore = grid.score( X_test, y_test )\n",
    "    \n",
    "    time = np.mean( grid.cv_results_[\"mean_fit_time\"] )\n",
    "    print( trainScore, testScore, time )\n",
    "    \n",
    "    return [trainScore, testScore, time, grid]"
   ]
  },
  {
   "cell_type": "markdown",
   "id": "953b43c8-6aff-4342-99c1-9ea862779e1b",
   "metadata": {},
   "source": [
    "#### Logistic Regression"
   ]
  },
  {
   "cell_type": "code",
   "execution_count": 190,
   "id": "7cdb45c9-0d2c-4ffe-b279-cf5bcd13f63d",
   "metadata": {},
   "outputs": [
    {
     "name": "stdout",
     "output_type": "stream",
     "text": [
      "0.9887884297936166 0.972271243271861 45.85871708774566\n"
     ]
    }
   ],
   "source": [
    "# Logistic Regression\n",
    "# For the param grid, we test out different solvers and hyperparameters\n",
    "import numpy as np\n",
    "from sklearn.linear_model import LogisticRegression\n",
    "\n",
    "logreg_param_grid = { \"classifier__solver\": [\"liblinear\",\"lbfgs\"], \n",
    "              \"classifier__C\": np.linspace(0.1, 5, 5), \n",
    "              \"classifier__tol\": np.linspace(0.00001,0.001, 5), \n",
    "              \"classifier__max_iter\": [1000]}\n",
    "\n",
    "logreg_gridresults = searchTrainAndScore( LogisticRegression(), logreg_param_grid )"
   ]
  },
  {
   "cell_type": "code",
   "execution_count": 269,
   "id": "5c7d49a7-d797-4ba5-bc04-06db5a3d46c0",
   "metadata": {},
   "outputs": [
    {
     "name": "stdout",
     "output_type": "stream",
     "text": [
      "Logistic Regression Accuracy:  0.8065029393188554\n"
     ]
    }
   ],
   "source": [
    "# Get the accuracy as well\n",
    "logreg_test_acc = accuracy_score( y_test, logreg_gridresults[3].predict( X_test ) )\n",
    "print( \"Logistic Regression Accuracy: \", logreg_test_acc )"
   ]
  },
  {
   "cell_type": "markdown",
   "id": "3f471bbb-faed-413e-9309-937a7c95bcf1",
   "metadata": {},
   "source": [
    "We can see that the accuracy is a tiny bit worse than our first lgr model, but the recall has improved slightly as a result to our optimizing."
   ]
  },
  {
   "cell_type": "markdown",
   "id": "7b2ba9a1-9650-487f-be2a-4012c4b9b8bc",
   "metadata": {},
   "source": [
    "#### K Nearest Neighbors"
   ]
  },
  {
   "cell_type": "code",
   "execution_count": 196,
   "id": "72f9f815-8c96-48d3-a24f-e72d8e62bfac",
   "metadata": {},
   "outputs": [
    {
     "name": "stdout",
     "output_type": "stream",
     "text": [
      "0.9815235334042784 0.9788449660284126 0.6936948537826537\n"
     ]
    }
   ],
   "source": [
    "# K Nearest Neighbors\n",
    "# For the param grid, we change the # of neighbors and how neighbors are weighted\n",
    "from sklearn.neighbors import KNeighborsClassifier\n",
    "\n",
    "KNN_param_grid = { \"classifier__n_neighbors\": [i for i in range( 1, 21, 2 )], \"classifier__weights\": [\"uniform\", \"distance\"]}\n",
    "\n",
    "knn_gridresults = searchTrainAndScore( KNeighborsClassifier(), KNN_param_grid )"
   ]
  },
  {
   "cell_type": "code",
   "execution_count": 271,
   "id": "182fe779-851f-4aca-bfa9-29d3c2ad0c37",
   "metadata": {},
   "outputs": [
    {
     "name": "stdout",
     "output_type": "stream",
     "text": [
      "KNN Accuracy:  0.835118787348783\n"
     ]
    }
   ],
   "source": [
    "# Get the accuracy as well\n",
    "knn_test_acc = accuracy_score( y_test, knn_gridresults[3].predict( X_test ) )\n",
    "print( \"KNN Accuracy: \", knn_test_acc )"
   ]
  },
  {
   "cell_type": "markdown",
   "id": "0c7decfa-d7f8-45dd-a05e-3bb27582768c",
   "metadata": {},
   "source": [
    "Similarly, the KNN model has similar results to the Logistic Regression but did better in both accuracy and recall."
   ]
  },
  {
   "cell_type": "markdown",
   "id": "09f56419-f420-469d-9353-5b82b9d572ee",
   "metadata": {},
   "source": [
    "#### Decision Tree"
   ]
  },
  {
   "cell_type": "code",
   "execution_count": 213,
   "id": "dd12a3bc-fb2e-4bc3-af88-3d5aa9c9da24",
   "metadata": {},
   "outputs": [
    {
     "name": "stdout",
     "output_type": "stream",
     "text": [
      "1.0 1.0 3.1701014553705846\n"
     ]
    }
   ],
   "source": [
    "# Decision Tree\n",
    "# For the param grid, we change the hyperparameters that decide on splits\n",
    "from sklearn.tree import DecisionTreeClassifier\n",
    "\n",
    "tree_param_grid = {\"classifier__min_impurity_decrease\":[0, 0.01,0.05,0.1,0.5], \n",
    "                   \"classifier__max_depth\":[2,5,10,20,None],\n",
    "                   \"classifier__min_samples_split\":[2,4,5],\n",
    "                    \"classifier__criterion\":[\"gini\",\"entropy\"] }\n",
    "\n",
    "tree_gridresults = searchTrainAndScore( DecisionTreeClassifier(), tree_param_grid )"
   ]
  },
  {
   "cell_type": "code",
   "execution_count": 273,
   "id": "019f9142-bb46-457b-aaf5-4f1ec7a6e0b2",
   "metadata": {},
   "outputs": [
    {
     "name": "stdout",
     "output_type": "stream",
     "text": [
      "Decision Tree Accuracy:  0.5506000097167566\n"
     ]
    }
   ],
   "source": [
    "# Get the accuracy as well\n",
    "tree_test_acc = accuracy_score( y_test, tree_gridresults[3].predict( X_test ) )\n",
    "print( \"Decision Tree Accuracy: \", tree_test_acc )"
   ]
  },
  {
   "cell_type": "markdown",
   "id": "a0f52e86-9427-4e8c-932e-479e49724c09",
   "metadata": {},
   "source": [
    "Unfortunately, since we scored the decision tree by recall, it simply became the baseline model and just chose the majority label (which is the malign label. Thus, for decision trees, we need to train under accuracy instead of recall"
   ]
  },
  {
   "cell_type": "code",
   "execution_count": 247,
   "id": "8c13b0c1-623c-491d-851c-e9a8d1aff3ce",
   "metadata": {},
   "outputs": [
    {
     "name": "stdout",
     "output_type": "stream",
     "text": [
      "0.9223570072031071 0.7670650536850799 3.0905985403060914\n"
     ]
    }
   ],
   "source": [
    "# Train the decision tree again, but score based on accuracy instead\n",
    "tree_pipe = Pipeline([\n",
    "        ( \"transform\", transformer ),\n",
    "        ( \"classifier\", DecisionTreeClassifier() )\n",
    "    ])\n",
    "    \n",
    "tree_grid = GridSearchCV( tree_pipe, tree_param_grid, scoring = \"accuracy\", n_jobs = -1 )\n",
    "tree_grid.fit( X_train, y_train )\n",
    "\n",
    "trainScore = tree_grid.score( X_train, y_train )\n",
    "testScore = tree_grid.score( X_test, y_test )\n",
    "\n",
    "time = np.mean( tree_grid.cv_results_[\"mean_fit_time\"] )\n",
    "print( trainScore, testScore, time )\n",
    "\n",
    "tree_gridresults2 = [trainScore, testScore, time, tree_grid]"
   ]
  },
  {
   "cell_type": "code",
   "execution_count": 277,
   "id": "466a6e32-2cdc-43ea-a01a-f04207aac7ee",
   "metadata": {},
   "outputs": [
    {
     "name": "stdout",
     "output_type": "stream",
     "text": [
      "Decision Tree 2 Recall:  1.0\n"
     ]
    }
   ],
   "source": [
    "# Get the recall as well\n",
    "tree2_test_recall = recall_score( y_test, tree_gridresults2[3].predict( X_test ) )\n",
    "print( \"Decision Tree 2 Recall: \", tree2_test_recall )"
   ]
  },
  {
   "cell_type": "markdown",
   "id": "6f24f290-0a26-47b7-b34d-c694f078cf20",
   "metadata": {},
   "source": [
    "Impressively, the decision tree trained with accuracy still obtained a recall of 100% while also improving accuracy by around 20%."
   ]
  },
  {
   "cell_type": "markdown",
   "id": "f7d05137-98d9-4454-9d1d-a6cc4950f2b7",
   "metadata": {},
   "source": [
    "#### SVC"
   ]
  },
  {
   "cell_type": "code",
   "execution_count": 489,
   "id": "b2a7786a-0657-4894-803c-4b9450d5636c",
   "metadata": {},
   "outputs": [
    {
     "name": "stdout",
     "output_type": "stream",
     "text": [
      "0.9964471556296662 0.9947277861113563 9109.979828039804\n"
     ]
    }
   ],
   "source": [
    "# SVC\n",
    "# For SVC, training already takes a really long time, so we can only do a small grid search\n",
    "from sklearn.svm import SVC\n",
    "\n",
    "svc_param_grid = {\"classifier__kernel\": [\"rbf\",\"poly\",\"sigmoid\"], \"classifier__probability\": [True]}\n",
    "\n",
    "svc_gridresults = searchTrainAndScore( SVC(), svc_param_grid )"
   ]
  },
  {
   "cell_type": "code",
   "execution_count": 279,
   "id": "3a521d0d-8846-4af4-8508-94570f9aa53e",
   "metadata": {},
   "outputs": [
    {
     "name": "stdout",
     "output_type": "stream",
     "text": [
      "SVC Accuracy:  0.8159403391148035\n"
     ]
    }
   ],
   "source": [
    "# Get the accuracy as well\n",
    "svc_test_acc = accuracy_score( y_test, svc_gridresults[3].predict( X_test ) )\n",
    "print( \"SVC Accuracy: \", svc_test_acc )"
   ]
  },
  {
   "cell_type": "markdown",
   "id": "2d3da938-8d30-4256-8139-058fc7916e11",
   "metadata": {},
   "source": [
    "As we can see, the recall of our SVC model is very high, almost reaching a perfect score. The accuracy is around the same as the other models. However, the training and predicting takes ages to finish, meaning it's hard to fully optimize the SVC or utilize it for high demand."
   ]
  },
  {
   "cell_type": "markdown",
   "id": "81ce83e1-9a9e-415d-9482-0bedca64a867",
   "metadata": {},
   "source": [
    "### Results"
   ]
  },
  {
   "cell_type": "markdown",
   "id": "46ea694e-42e4-4e6d-8098-c910506b7418",
   "metadata": {},
   "source": [
    "Impressively enough, all of our optimized models had a recall of 97% and higher. In addition, the decision tree model managed to score perfect recall for both training and testing data while also not taking too long to fit. On the other hand, the Logistic Regression and SVC models required a lot of time to finish training. Thus, we shouldn't delve too much into searching for these two models if we choose to train again. Perhaps this is due to the large amount of features and records in the data?"
   ]
  },
  {
   "cell_type": "code",
   "execution_count": 305,
   "id": "e93e12bc-2d4b-4687-9704-d8e3365d8022",
   "metadata": {},
   "outputs": [],
   "source": [
    "# Create the Dataframe to contain our results\n",
    "grid_results_df = pd.DataFrame( {\"model\":[\"KNN\",\"Logistic Regression\", \"SVC\", \"Decision Tree\\n(Recall)\", \"Decision Tree\\n(Accuracy)\", \"Baseline\"], \n",
    "                                 \"Test Recall Score\":[knn_gridresults[1], logreg_gridresults[1], svc_gridresults[1], tree_gridresults[1], tree2_test_recall, baseline_recall_testScore], \n",
    "                                 \"Test Accuracy Score\":[knn_test_acc, logreg_test_acc, svc_test_acc, tree_test_acc, tree_gridresults2[1], baseline_testScore],\n",
    "                                 \"Fit Time\":[knn_gridresults[2], logreg_gridresults[2], svc_gridresults[2], tree_gridresults[2],tree_gridresults2[2],baseline_fittime]})"
   ]
  },
  {
   "cell_type": "code",
   "execution_count": 307,
   "id": "38ebda09-d088-472f-8a6d-26bb255b1b16",
   "metadata": {},
   "outputs": [
    {
     "data": {
      "image/png": "[encoded data removed]",
      "text/plain": [
       "<Figure size 640x480 with 1 Axes>"
      ]
     },
     "metadata": {},
     "output_type": "display_data"
    }
   ],
   "source": [
    "import seaborn as sns\n",
    "import matplotlib.pyplot as plt\n",
    "\n",
    "# Plot the recall scores for more clarity\n",
    "tidy = grid_results_df.melt( id_vars=\"model\", value_vars=[\"Test Accuracy Score\", \"Test Recall Score\"]).rename(columns=str.title)\n",
    "plt.figure( figsize=(8, 6), dpi=80 )\n",
    "graph = sns.barplot( tidy, x = \"Model\", y = \"Value\", hue = \"Variable\" )\n",
    "\n",
    "#graph.axhline( baseline_testScore, color = \"r\", label = \"Baseline\" )\n",
    "\n",
    "plt.legend(bbox_to_anchor=(1.35, 1) )\n",
    "#\n",
    "plt.title( \"Accuracy and Recall of Optimized Classification Models + Baseline\" )\n",
    "plt.xlabel( \"Classification Model\" )\n",
    "plt.ylabel( \"Score\" )\n",
    "plt.savefig( \"images/optimalModels.png\", bbox_inches='tight' )"
   ]
  },
  {
   "cell_type": "markdown",
   "id": "09225cfd-ea2c-41c7-ad09-42db6ea7a56c",
   "metadata": {},
   "source": [
    "Looking at the graph, we can see that all the models have improved accuracy compared to the baseline while also sporting high recall. However, it's difficult to compare this to the baseline with a recall of 100%. In addition, this doesn't give a very clear picture on which model performed the best."
   ]
  },
  {
   "cell_type": "markdown",
   "id": "dc7112a7-6542-4a4b-9719-17d5b51c9c90",
   "metadata": {},
   "source": [
    "Thus, for a clearer depiction, we'll use Precision-Recall curves to get a better picture of how well each model did. For each model, the closer the curve is to the top right corner, the better the model."
   ]
  },
  {
   "cell_type": "code",
   "execution_count": 348,
   "id": "33fe7a7d-1683-42e2-ab2d-bfb2e7249f84",
   "metadata": {},
   "outputs": [
    {
     "data": {
      "text/plain": [
       "(array([0.55060001, 1.        ]), array([1., 0.]), array([0.68062233]))"
      ]
     },
     "execution_count": 348,
     "metadata": {},
     "output_type": "execute_result"
    }
   ],
   "source": [
    "precision_recall_curve( y_test, tree_gridresults[3].predict_proba( X_test )[:,1] )"
   ]
  },
  {
   "cell_type": "code",
   "execution_count": 493,
   "id": "3676b760-ee22-4226-90fe-d608347aa84b",
   "metadata": {},
   "outputs": [],
   "source": [
    "from sklearn.metrics import precision_recall_curve\n",
    "\n",
    "# Get all the models in a list\n",
    "models = [(knn_gridresults[3], \"KNN\"), \n",
    "          (logreg_gridresults[3], \"Logistic Regression\"), \n",
    "          (svc_gridresults[3], \"SVC\" ), \n",
    "          (tree_gridresults[3], \"Decision Tree (Recall)\"), \n",
    "          (tree_gridresults2[3], \"Decision Tree (Accuracy)\"), \n",
    "          (baseline_model, \"Baseline\")]\n",
    "\n",
    "warnings.filterwarnings(\"ignore\", category=FutureWarning)\n",
    "\n",
    "precision, recall, modelNames = [], [], []\n",
    "for model, modelName in models:\n",
    "    p, r, t = precision_recall_curve( y_test, model.predict_proba( X_test )[:,1] )\n",
    "    precision += list( p )\n",
    "    recall += list( r )\n",
    "    modelNames += [modelName] * len( p )\n",
    "\n",
    "graph_df = pd.DataFrame( {\"Precision\": precision,\n",
    "                          \"Recall\": recall,\n",
    "                          \"Model\": modelNames } )"
   ]
  },
  {
   "cell_type": "code",
   "execution_count": 495,
   "id": "e1ddd05e-1986-4887-a8c6-3e036e38378e",
   "metadata": {},
   "outputs": [
    {
     "data": {
      "image/png": "[encoded data removed]",
      "text/plain": [
       "<Figure size 640x480 with 1 Axes>"
      ]
     },
     "metadata": {},
     "output_type": "display_data"
    }
   ],
   "source": [
    "sns.lineplot( data = graph_df, x = \"Recall\", y = \"Precision\", hue = \"Model\" )\n",
    "plt.title( \"Precision-Recall Graph of Models\" )\n",
    "plt.savefig( \"images/precisionRecall.png\", bbox_inches='tight' )"
   ]
  },
  {
   "cell_type": "markdown",
   "id": "3a58e175-30f9-419a-98df-d2eeb31636d4",
   "metadata": {},
   "source": [
    "## Model Training Review/Summary"
   ]
  },
  {
   "cell_type": "markdown",
   "id": "9fc0464f-c18a-4dc1-b4e5-3ff9b68de99c",
   "metadata": {},
   "source": [
    "As we can see, each classification model performs very well at predicting if a packet is malign, with the lowest recall being at 97%. As for accuracy, the models all share around 80% with the recall-trained decision tree having the lowest, matching the baseline. Using a precision-recall graph, we can see that the KNN model performed the best in terms of predicting malign packets.\n",
    "\n",
    "From these results, we can clearly see that there are factors/patterns that allows these models to strongly identify packets. Thus, our next step is to unravel exactly what these features are. Since all the models performed well, it might be worth analyzing each one to see any overlap."
   ]
  },
  {
   "cell_type": "markdown",
   "id": "2932c708-9896-4836-8ce6-8c33f861e62e",
   "metadata": {},
   "source": [
    "## Analyzing the Models"
   ]
  },
  {
   "cell_type": "markdown",
   "id": "cf069b3f-0766-4dc3-8d41-e497f8b5728a",
   "metadata": {},
   "source": [
    "To identify the variables that strongly impacts our models, we'll examine each one to find any similarities."
   ]
  },
  {
   "cell_type": "markdown",
   "id": "c82fea93-553a-4546-ac20-6520d09f2ae3",
   "metadata": {},
   "source": [
    "### Decision Tree"
   ]
  },
  {
   "cell_type": "markdown",
   "id": "5e59018c-6f8f-44a3-ad9a-57e18db378e5",
   "metadata": {},
   "source": [
    "The easiest model of the bunch, we can examine the branches of the decision tree to see which features helped split the data as much as possible, implying that they strongly impact the tree. We will be using the accuracy-trained decision tree as the recall-trained decision tree is just the baseline model."
   ]
  },
  {
   "cell_type": "code",
   "execution_count": 376,
   "id": "a7055216-075b-4c64-8200-760dd9b8d397",
   "metadata": {},
   "outputs": [],
   "source": [
    "from sklearn.tree import plot_tree"
   ]
  },
  {
   "cell_type": "code",
   "execution_count": 385,
   "id": "479cc050-1cc1-4a8b-9960-2577bfa1427d",
   "metadata": {},
   "outputs": [],
   "source": [
    "# Get the decision tree and transformer out\n",
    "tree = tree_gridresults2[3].best_estimator_.named_steps[\"classifier\"]\n",
    "feature_names = tree_gridresults2[3].best_estimator_.named_steps[\"transform\"].get_feature_names_out()"
   ]
  },
  {
   "cell_type": "code",
   "execution_count": 487,
   "id": "6aa190bb-8f2c-4297-8c19-35001bd03e08",
   "metadata": {},
   "outputs": [
    {
     "data": {
      "image/png": "[encoded data removed]",
      "text/plain": [
       "<Figure size 3000x1400 with 1 Axes>"
      ]
     },
     "metadata": {},
     "output_type": "display_data"
    }
   ],
   "source": [
    "plt.figure( figsize=(15, 7), dpi=200 )\n",
    "tree_plot = plot_tree( tree, fontsize = 9, filled = True, feature_names = list( feature_names ) )\n",
    "plt.title( \"Inner Workings of Decision Tree\" )\n",
    "plt.savefig( \"images/decisionTree.png\", bbox_inches='tight' ) "
   ]
  },
  {
   "cell_type": "markdown",
   "id": "aa76d1ee-c511-4cc1-9483-9c36a4d33769",
   "metadata": {},
   "source": [
    "To explain the graph, orange represents safe/normal packets while blue represents malign packets. In addition, for the \"value\" array, it is structured as [# of normal packets, # of malign packets]\n",
    "\n",
    "From our decision tree graph, we can definitely see that some features have immense impact on the model. The feature \"sttl\", Source to Destination Time to Live value, splits the data very well. Time to live value represents the amount of time a packet can continue traveling through the internet before being discarded. Thus, we can say that a majority of normal packets have low time to live value compared to malign packets. This is probably because normal packets try to reach their destination as fast as possible while malign packets try to access a computer through as many angles as possible.\n",
    "\n",
    "If the time to live value is low, the next idenfifier for normal packets is the protocol. Any packet utilizing the popular protocols are all normal while packets that use less used protocols are malign. This makes sense since popular protocols are highly secure and pretty hard for adversaries to go around.\n",
    "\n",
    "If the time to live value is high, then the next determiner is \"sbytes\", which is source to destination transaction bytes. This just means how many bytes were sent from the source to the destination. It seems like the smaller the packet, the more likely it is for the packet to be malign while bigger packets have a higher chance of simply being normal packets. This could perhaps be because small packets don't require a long time to live value since they travel through the internet pretty fast. A reason for why larger packets are harder to identify is probably due to normal packets being large data transfer."
   ]
  },
  {
   "cell_type": "markdown",
   "id": "70f8308b-75b7-400b-a887-d343c0e0ac6a",
   "metadata": {},
   "source": [
    "### K-Nearest Neighbors"
   ]
  },
  {
   "cell_type": "markdown",
   "id": "8790aaee-4c34-4951-8753-d753bbc042dc",
   "metadata": {},
   "source": [
    "There isn't really an easy way to analyze KNN. The model simply chooses the records most similar to the given point and gets the majority label. Thus, we should skip this one"
   ]
  },
  {
   "cell_type": "markdown",
   "id": "1f9f88b2-4127-47b2-b737-52ea7afa75fc",
   "metadata": {},
   "source": [
    "### Logistic Regression"
   ]
  },
  {
   "cell_type": "markdown",
   "id": "5c7c0b19-57df-41b7-ad84-e6672ac75f07",
   "metadata": {},
   "source": [
    "For logistic regression, we can examine the coefficients of the model first to see how impactful the features are."
   ]
  },
  {
   "cell_type": "code",
   "execution_count": 435,
   "id": "6deb6b64-8a99-4362-84b8-724cb6f39453",
   "metadata": {},
   "outputs": [],
   "source": [
    "# Get our Logistic Regression classifier\n",
    "lgr = logreg_gridresults[3].best_estimator_.named_steps[\"classifier\"]"
   ]
  },
  {
   "cell_type": "code",
   "execution_count": 441,
   "id": "7088b1aa-e9d3-4951-9bdf-bdc461bf71af",
   "metadata": {},
   "outputs": [
    {
     "name": "stdout",
     "output_type": "stream",
     "text": [
      "Top Coefficients:\n",
      "                                  0         1\n",
      "36                  remainder__dttl  5.630442\n",
      "16         onehotencoder__state_INT  3.200808\n",
      "9       onehotencoder__service_smtp  2.761648\n",
      "53                 remainder__dmean  2.267573\n",
      "25     onehotencoder__protocol_sctp  2.254803\n",
      "2        onehotencoder__service_dns  2.155266\n",
      "28     onehotencoder__protocol_unas  1.887431\n",
      "24    onehotencoder__protocol_other  1.693415\n",
      "4   onehotencoder__service_ftp-data  1.626375\n",
      "31                 remainder__dpkts  1.446123\n",
      "Bottom Coefficients:\n",
      "                              0         1\n",
      "38             remainder__dload -5.013337\n",
      "45              remainder__swin -3.585134\n",
      "27  onehotencoder__protocol_udp -2.858518\n",
      "3    onehotencoder__service_ftp -2.825630\n",
      "13     onehotencoder__state_CON -2.561782\n",
      "0      onehotencoder__service_- -2.492135\n",
      "26  onehotencoder__protocol_tcp -1.833781\n",
      "48              remainder__dwin -1.772445\n",
      "66        remainder__ct_srv_dst -1.565681\n"
     ]
    }
   ],
   "source": [
    "# Combine the coefficients with their feature names\n",
    "coefs = pd.DataFrame( zip( feature_names, lgr.coef_[0] ) )\n",
    "coefs = coefs.sort_values( 1, ascending = False )\n",
    "\n",
    "print( \"Top Coefficients:\" )\n",
    "print( coefs[:10] )\n",
    "\n",
    "print( \"Bottom Coefficients:\" )\n",
    "print( coefs[-1:-10:-1] )"
   ]
  },
  {
   "cell_type": "markdown",
   "id": "8818c292-f5b4-48a4-ac7b-4a090bfb63a5",
   "metadata": {},
   "source": [
    "The greater the value of the coefficient, the more impact it has on the model. In addition, all the features are scaled pretty well, so they should all be relatively equal in value. Negative coefficients indicate the packet is normal while positive coefficients indicate the packet is malign.\n",
    "\n",
    "As we can see, protocol appears multiple times in the list. Popular protocols such as TCP and UDP have high negative coefficients, indicating that packets using these protocols are normal. Protocols that aren't prevalent such as SCTP or UNAS have high postive coefficients, implying that malign packets use less popular protocols when being sent.\n",
    "\n",
    "Service is also another feature that seems to impact both normal and malign packets. Normal packets usually use FTP (communication) and other non-used services. Malign packets, on the other hand, utilize FTP-data (data transfer), DNS (computer lookup), and SMTP (mail service). This indicates that malign packets focus more on data transfering or obtaining information.\n",
    "\n",
    "Interestingly, Logistic Regression identifies destination information to be aligned to malign packets. The most notable none is \"dttl\", or destination to source time to live value. Perhaps this is due to the same reasoning given for decision trees, but it is strange how \"sttl\" doesn't show up if it's true.\n",
    "\n",
    "As for indicators for normal packets, the most impactful are \"dload\", destination bits per second, and \"swin\", TCP window advertisement value. Destination bits per second might be an indicator because higher bits per second implies a pretty stable and secure connection with no malign packets. As for TCP window advertisement value (how much data can be accepted), the same logic could apply where larger windows implies a more stable and secure connection."
   ]
  },
  {
   "cell_type": "code",
   "execution_count": 455,
   "id": "f888ff8e-73c0-4f46-9a8a-e6b2cbe0750a",
   "metadata": {},
   "outputs": [
    {
     "name": "stdout",
     "output_type": "stream",
     "text": [
      "swin                0.277 +/- 0.001\n",
      "dttl                0.200 +/- 0.001\n",
      "dload               0.070 +/- 0.001\n",
      "sttl                0.066 +/- 0.001\n",
      "ct_srv_dst          0.063 +/- 0.001\n",
      "state               0.062 +/- 0.000\n",
      "service             0.038 +/- 0.001\n",
      "dmean               0.037 +/- 0.001\n",
      "dwin                0.028 +/- 0.001\n",
      "ct_state_ttl        0.027 +/- 0.001\n",
      "protocol            0.022 +/- 0.000\n",
      "is_sm_ips_ports     0.011 +/- 0.000\n",
      "dbytes              0.009 +/- 0.000\n",
      "ackdat              0.003 +/- 0.000\n",
      "dpkts               0.002 +/- 0.000\n",
      "rate                0.001 +/- 0.000\n",
      "djit                0.001 +/- 0.000\n",
      "ct_srv_src          0.001 +/- 0.000\n",
      "spkts               0.001 +/- 0.000\n",
      "sloss               0.000 +/- 0.000\n",
      "sinpkt              0.000 +/- 0.000\n",
      "dtcpb               0.000 +/- 0.000\n",
      "sbytes              0.000 +/- 0.000\n",
      "ct_src_ltm          0.000 +/- 0.000\n"
     ]
    }
   ],
   "source": [
    "# Just to confirm our analysis, we'll use permutation_importance to go through the model again\n",
    "\n",
    "from sklearn.inspection import permutation_importance\n",
    "\n",
    "# Find the importance means for the logistic regression model\n",
    "lgr_pipe = logreg_gridresults[3].best_estimator_\n",
    "r = permutation_importance( lgr_pipe, X_test, y_test, scoring = \"recall\" )\n",
    "\n",
    "# We want to record the importance means\n",
    "importance_means = {}\n",
    "for i in r.importances_mean.argsort()[::-1]:\n",
    "    if r.importances_mean[i] - 2 * r.importances_std[i] > 0:\n",
    "        print(f\"{X_test.columns[i]:<20}\"\n",
    "               f\"{r.importances_mean[i]:.3f}\"\n",
    "               f\" +/- {r.importances_std[i]:.3f}\")\n",
    "        importance_means[X_test.columns[i]] = r.importances_mean[i]"
   ]
  },
  {
   "cell_type": "markdown",
   "id": "97f15bbf-79c3-4e51-bbe6-6a9e875f464d",
   "metadata": {},
   "source": [
    "As we can see, many features we've seen before in our above analysis, \"swin\", \"dttl\", \"dload\", \"protocol\", \"service\", \"sttl\", have high importance in the model. "
   ]
  },
  {
   "cell_type": "markdown",
   "id": "2dbd8a0f-5a44-4fde-acb7-db2de296e6b6",
   "metadata": {},
   "source": [
    "### SVC"
   ]
  },
  {
   "cell_type": "markdown",
   "id": "56ee9d8a-67ec-4837-9df2-0d37f97d0421",
   "metadata": {},
   "source": [
    "For SVC, we can examine the coefficients if the model is linear. So lets first check what kernel was used"
   ]
  },
  {
   "cell_type": "code",
   "execution_count": 462,
   "id": "3d2ff6e9-782d-4c5e-a6e1-85bf8aaacf30",
   "metadata": {},
   "outputs": [
    {
     "data": {
      "text/plain": [
       "{'classifier__kernel': 'poly'}"
      ]
     },
     "execution_count": 462,
     "metadata": {},
     "output_type": "execute_result"
    }
   ],
   "source": [
    "svc_gridresults[3].best_params_"
   ]
  },
  {
   "cell_type": "markdown",
   "id": "75db4fff-bca5-4eb1-86e0-57898e5f5304",
   "metadata": {},
   "source": [
    "Unfortunately, the SVC used a \"poly\" kernel, so we can't use .coef_. Thus, our only other choice is to use permutation_importance again:"
   ]
  },
  {
   "cell_type": "code",
   "execution_count": 466,
   "id": "07416b36-9c93-4214-91ca-5f0a4583e491",
   "metadata": {},
   "outputs": [
    {
     "name": "stdout",
     "output_type": "stream",
     "text": [
      "swin                0.277 +/- 0.000\n",
      "dttl                0.199 +/- 0.000\n",
      "dload               0.070 +/- 0.001\n",
      "sttl                0.066 +/- 0.001\n",
      "state               0.063 +/- 0.001\n",
      "ct_srv_dst          0.062 +/- 0.001\n",
      "dmean               0.037 +/- 0.000\n",
      "service             0.037 +/- 0.001\n",
      "dwin                0.028 +/- 0.000\n",
      "ct_state_ttl        0.028 +/- 0.001\n",
      "protocol            0.021 +/- 0.001\n",
      "is_sm_ips_ports     0.010 +/- 0.000\n",
      "dbytes              0.008 +/- 0.000\n",
      "ackdat              0.003 +/- 0.000\n",
      "dpkts               0.001 +/- 0.000\n",
      "rate                0.001 +/- 0.000\n",
      "djit                0.001 +/- 0.000\n",
      "ct_srv_src          0.001 +/- 0.000\n",
      "spkts               0.000 +/- 0.000\n",
      "sloss               0.000 +/- 0.000\n",
      "smean               0.000 +/- 0.000\n",
      "dtcpb               0.000 +/- 0.000\n",
      "sinpkt              0.000 +/- 0.000\n",
      "dur                 0.000 +/- 0.000\n",
      "sbytes              0.000 +/- 0.000\n",
      "ct_src_ltm          0.000 +/- 0.000\n"
     ]
    }
   ],
   "source": [
    "# Find the importance means for the SVC model\n",
    "svc_pipe = logreg_gridresults[3].best_estimator_\n",
    "r = permutation_importance( svc_pipe, X_test, y_test, scoring = \"recall\" )\n",
    "\n",
    "# We want to record the importance means\n",
    "importance_means = {}\n",
    "for i in r.importances_mean.argsort()[::-1]:\n",
    "    if r.importances_mean[i] - 2 * r.importances_std[i] > 0:\n",
    "        print(f\"{X_test.columns[i]:<20}\"\n",
    "               f\"{r.importances_mean[i]:.3f}\"\n",
    "               f\" +/- {r.importances_std[i]:.3f}\")\n",
    "        importance_means[X_test.columns[i]] = r.importances_mean[i]"
   ]
  },
  {
   "cell_type": "markdown",
   "id": "8b70d658-90d8-4a0c-93ac-f45af01c4372",
   "metadata": {},
   "source": [
    "From the results, we can see that the top features are \"swin\" and \"dttl\", which were both discussed in the previous model analysis. Following them are \"dload\", \"sttl\", \"state\", and \"ct_srv_dst\" (# of same connections in 100 connections to destination). It's hard to tell if \"ct_srv_dst\" is an indicator for normal or malign. If the same connection happens very often, then perhaps it is an indicator of a DDOS attack, which would be malign. However, it could be just a private connection between two parties as well.\n",
    "\n",
    "Besides that, other features we've seen before such as \"dmean\", \"service\", \"dwin\", and \"protocol\" still have impact on the SVC."
   ]
  },
  {
   "cell_type": "markdown",
   "id": "b96b6839-2e5e-439d-8560-41f059ea91eb",
   "metadata": {},
   "source": [
    "### Summary of Analysis"
   ]
  },
  {
   "cell_type": "markdown",
   "id": "1851517d-4a5e-46f0-9f46-d6c4539ab8b0",
   "metadata": {},
   "source": [
    "After we analyzed all 4 models, we can definitely see some stand-out impactful features that overlapped in all of them. These all involve either the packet details or the protocol used to send them.\n",
    "\n",
    "* We found that \"Time to live value\" is very impactful in determining whether a packet is normal or malign. Lower values lead to normal packets while higher values point toward malignant packets.\n",
    "* High values in features dealing with packet size and limit such as TCP window advertisement value, bits per second, mean transmited packet size have a strong indication of a normal packet. This is probably because they imply a stable and secure connection between two parties rather than a sneaky method of injecting a malign packet.\n",
    "* Protocol is also a very strong factor in determining a packet's validity. Packets that utilize popular protocols such as TCP, UDP, and FTP strongly suggests that the packets are normal. This is probably due to the amount of scrutinance and work put into these protocols to make them as secure and safe as possible. Meanwhile, packets that utilize less frequently used protocols have a higher rate of being a malign packet. This is probably due to there being more security holes and supervision when using these protocols.\n",
    "* Service is another feature that is impactful. This seems to go hand in hand with the \"Protocol\" feature, as malign packets seem to use certain services while normal packets usually utilize other states. For example, DNS, FTP-Data, and SMTP are strong indicators of malign packets perhaps due to them trying to transfer harmful agents through mail or an FTP connection. Interestingly, the FTP service is indicative of a normal packet, probably because it's a minimal and secure connection between two parties that isn't really risky.\n",
    "* Lastly, \"State\" is also high up as another impactful feature. It seems like State is dependent on the \"Protocol\" feature and simply designates what kind of state the protocol is in. Thus, we can lump this in with the protocol. The most important states are \"CON\", which implies a normal packet, and \"INT\", which implies a malign packet\n",
    "\n",
    "In essense, we can determine if a packet is normal or malignant by examining the packet transmission details and utilized protocol services. Most malignant packets utilize less popular and secure protocols while normal packets utilize popular protocols such as TCP and UDP. In addition, malignant packets usually have longer life time on the internet and are smaller than normal packets."
   ]
  },
  {
   "cell_type": "markdown",
   "id": "c86d2f02-9639-4ba1-a3ce-2b3f2091d911",
   "metadata": {},
   "source": [
    "## Summary"
   ]
  },
  {
   "cell_type": "markdown",
   "id": "bbbfaee1-63a5-48e7-a6bd-0078f09e6e4b",
   "metadata": {},
   "source": [
    "With a dataset of network packets collected by the Australian Centre for Cyber Security, we trained multiple classification models to determine whether a network packet was normal or malign. Once trained, all of the models had pretty high performance, sporting 80% accuracy and around 97% recall. After training the models, we examined each model to find features that strongly impacted the models in their predictions. These features are strong indicators for normal or malign packets, allowing us to gain some insight on how these models work. From our analysis, we deduced that the strongest indicators for a network packet are the packet transmission details and utilized service/protocol. Malign packets and normal packets seem to utilize different protocols when being sent. In addition, while malign packets are usually small in size and try to last on the network for as long as possible, normal packets tend to be larger in size and are transferred more securely."
   ]
  },
  {
   "cell_type": "markdown",
   "id": "a4ff3fe5-2cbe-4cc5-98c2-492119092a20",
   "metadata": {},
   "source": [
    "## Next Steps and Recommendations"
   ]
  },
  {
   "cell_type": "markdown",
   "id": "368470b4-5d2d-4f09-b207-407a2a158a03",
   "metadata": {},
   "source": [
    "With such a high recall and accuracy for every model, a next step would be to utilize these classification models in cybersecurity tools that identify malign packets. This way, people can be more protected against malignant agents trying to steal their information or assets. Another way is just to inform cybersecurity experts about these results, discussing which features are strong indicators and seeking what their opinion is on the matter. This creates discussion and spreads discourse about identifying network packets, which will keep people's digital lives safer in the long run.\n",
    "\n",
    "In addition, although our models performed well, it's worth using data provided by other sources to confirm/reject the current results we've gotten. The dataset we used for this project is synthetic, meaning that not all of it is real data. This raises the concern that perhaps the data might be completely reflective of real life network packets. Thus, it's worth double checking by utilizing other data.\n",
    "\n",
    "Besides that, another next step is focusing on creating more accurate models. Currently, Logistic Regression and SVC take a really long time to fit (even with all my computer's processors working in tandam). As such, it's just not feasible to conduct deep hyperparameter searches for these models. However, from our analysis, we've confirmed that many features simply don't have any impact on the model. Thus, if we were to trim the dataset to only include the impactful features, it will be easier to conduct deeper hyperparameter searches for our models. In addition, we can utilize more advanced models such as Random Forests to get better classification models.\n",
    "\n",
    "For recommendations, I would suggest people to use popular network protocols when transferring data. It's only when you start using less used protocols or access less secure sites/downloads when you begin to run across malignant network packets. For general folk, it would probably boil down to just being aware of the dangers of receiving suspicious advertisements or download links and not accessing insecure web sites."
   ]
  },
  {
   "cell_type": "markdown",
   "id": "ae985667-afdc-4f5d-97a9-f05d8fc295c8",
   "metadata": {},
   "source": [
    "## Reflection"
   ]
  },
  {
   "cell_type": "markdown",
   "id": "e3939d29-2217-4f22-8c2a-5225e83093d7",
   "metadata": {},
   "source": [
    "There are a few things that I would have liked to have done better.\n",
    "\n",
    "First and foremost was to check the validity and usability of the data with my own eyes rather than other people's opinion. The first dataset I found seemed like a perfect find that contained enough data and features to conduct good analysis. However, as I dove deeper into the dataset, I noticed that all of the models were performing as well as the baseline model. Further testing led to me realizing that the dataset I used was so synthetic that the distribution of features for each label were completely the same. So there was no insight or information to be gained. I wasted so much time and effort on this one dataset and grew frustrated. However, I was able to find this current dataset, which provided me with a lot more usable data and insight to complete the project. Thus, a lesson for me to learn from.\n",
    "\n",
    "Second, I think I could have done more during my model training. As I mentioned in my next steps, I could optimize the dataset and conduct deeper searches for the models to get a higher accuracy and recall score. I also think that the range of some of the hyperparameters I was searching for could be expanded as well.\n",
    "\n",
    "Lastly, I feel like I could explain the features a bit better or translate their names into more readable/clearer titles. Most of it is internet protocol terminology, so it could get confusing for a layman to understand what each feature represents. Perhaps I should have added the entire features description as a section in this report?"
   ]
  },
  {
   "cell_type": "code",
   "execution_count": null,
   "id": "5aeec766-b6fc-4f7d-8b34-4388ea96f984",
   "metadata": {},
   "outputs": [],
   "source": []
  }
 ],
 "metadata": {
  "kernelspec": {
   "display_name": "Python 3 (ipykernel)",
   "language": "python",
   "name": "python3"
  },
  "language_info": {
   "codemirror_mode": {
    "name": "ipython",
    "version": 3
   },
   "file_extension": ".py",
   "mimetype": "text/x-python",
   "name": "python",
   "nbconvert_exporter": "python",
   "pygments_lexer": "ipython3",
   "version": "3.11.5"
  }
 },
 "nbformat": 4,
 "nbformat_minor": 5
}
