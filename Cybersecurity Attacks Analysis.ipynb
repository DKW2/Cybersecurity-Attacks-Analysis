{
 "cells": [
  {
   "cell_type": "markdown",
   "id": "d7804178",
   "metadata": {},
   "source": [
    "# Capstone Project: Cybersecurity Attacks Analysis\n",
    "\n",
    "**Overview**: For my capstone project in UC Berkeley's ML/AI bootcamp, I will be analyzing a dataset of cyberattacks and identifying factors which affect how severe an attack is. The goal for the project is to train a classification model that will be able to accurately predict how severe an attack will be given some input.\n",
    "\n"
   ]
  },
  {
   "cell_type": "markdown",
   "id": "f4c1ff28",
   "metadata": {},
   "source": [
    "## Dataset\n",
    "\n",
    "This dataset comes from Kaggle [link](https://www.kaggle.com/datasets/teamincribo/cyber-security-attacks). The data is a synthetic dataset created by Incribo which provides an accurate realistic representation of travel history. Incribo themselves seem to be a startup that creates synthetic datasets to train AI models."
   ]
  },
  {
   "cell_type": "markdown",
   "id": "21a8d1ad",
   "metadata": {},
   "source": [
    "## Business Objective"
   ]
  },
  {
   "cell_type": "markdown",
   "id": "543af669",
   "metadata": {},
   "source": [
    "Our objective in this project is to create a classification model that can accurately predict how severe a cybersecurity attack is. These predictions will be based on the features in the cyberattack dataset. In addition, we would like to identify features that have a strong impact on the model so that we can find what causes the severity of these attacks."
   ]
  },
  {
   "cell_type": "markdown",
   "id": "b93c4369",
   "metadata": {},
   "source": [
    "## Reading in the Data\n",
    "\n",
    "We have already imported the dataset into the /data folder. So we will extract it with pandas."
   ]
  },
  {
   "cell_type": "code",
   "execution_count": 8,
   "id": "64834ccd",
   "metadata": {},
   "outputs": [],
   "source": [
    "import pandas as pd"
   ]
  },
  {
   "cell_type": "code",
   "execution_count": 9,
   "id": "a00611d7",
   "metadata": {},
   "outputs": [],
   "source": [
    "cyber_attacks = pd.read_csv( \"data/cybersecurity_attacks.csv\" )"
   ]
  },
  {
   "cell_type": "code",
   "execution_count": 10,
   "id": "32a35882",
   "metadata": {},
   "outputs": [
    {
     "data": {
      "text/html": [
       "<div>\n",
       "<style scoped>\n",
       "    .dataframe tbody tr th:only-of-type {\n",
       "        vertical-align: middle;\n",
       "    }\n",
       "\n",
       "    .dataframe tbody tr th {\n",
       "        vertical-align: top;\n",
       "    }\n",
       "\n",
       "    .dataframe thead th {\n",
       "        text-align: right;\n",
       "    }\n",
       "</style>\n",
       "<table border=\"1\" class=\"dataframe\">\n",
       "  <thead>\n",
       "    <tr style=\"text-align: right;\">\n",
       "      <th></th>\n",
       "      <th>Timestamp</th>\n",
       "      <th>Source IP Address</th>\n",
       "      <th>Destination IP Address</th>\n",
       "      <th>Source Port</th>\n",
       "      <th>Destination Port</th>\n",
       "      <th>Protocol</th>\n",
       "      <th>Packet Length</th>\n",
       "      <th>Packet Type</th>\n",
       "      <th>Traffic Type</th>\n",
       "      <th>Payload Data</th>\n",
       "      <th>...</th>\n",
       "      <th>Action Taken</th>\n",
       "      <th>Severity Level</th>\n",
       "      <th>User Information</th>\n",
       "      <th>Device Information</th>\n",
       "      <th>Network Segment</th>\n",
       "      <th>Geo-location Data</th>\n",
       "      <th>Proxy Information</th>\n",
       "      <th>Firewall Logs</th>\n",
       "      <th>IDS/IPS Alerts</th>\n",
       "      <th>Log Source</th>\n",
       "    </tr>\n",
       "  </thead>\n",
       "  <tbody>\n",
       "    <tr>\n",
       "      <th>0</th>\n",
       "      <td>2023-05-30 06:33:58</td>\n",
       "      <td>103.216.15.12</td>\n",
       "      <td>84.9.164.252</td>\n",
       "      <td>31225</td>\n",
       "      <td>17616</td>\n",
       "      <td>ICMP</td>\n",
       "      <td>503</td>\n",
       "      <td>Data</td>\n",
       "      <td>HTTP</td>\n",
       "      <td>Qui natus odio asperiores nam. Optio nobis ius...</td>\n",
       "      <td>...</td>\n",
       "      <td>Logged</td>\n",
       "      <td>Low</td>\n",
       "      <td>Reyansh Dugal</td>\n",
       "      <td>Mozilla/5.0 (compatible; MSIE 8.0; Windows NT ...</td>\n",
       "      <td>Segment A</td>\n",
       "      <td>Jamshedpur, Sikkim</td>\n",
       "      <td>150.9.97.135</td>\n",
       "      <td>Log Data</td>\n",
       "      <td>NaN</td>\n",
       "      <td>Server</td>\n",
       "    </tr>\n",
       "    <tr>\n",
       "      <th>1</th>\n",
       "      <td>2020-08-26 07:08:30</td>\n",
       "      <td>78.199.217.198</td>\n",
       "      <td>66.191.137.154</td>\n",
       "      <td>17245</td>\n",
       "      <td>48166</td>\n",
       "      <td>ICMP</td>\n",
       "      <td>1174</td>\n",
       "      <td>Data</td>\n",
       "      <td>HTTP</td>\n",
       "      <td>Aperiam quos modi officiis veritatis rem. Omni...</td>\n",
       "      <td>...</td>\n",
       "      <td>Blocked</td>\n",
       "      <td>Low</td>\n",
       "      <td>Sumer Rana</td>\n",
       "      <td>Mozilla/5.0 (compatible; MSIE 8.0; Windows NT ...</td>\n",
       "      <td>Segment B</td>\n",
       "      <td>Bilaspur, Nagaland</td>\n",
       "      <td>NaN</td>\n",
       "      <td>Log Data</td>\n",
       "      <td>NaN</td>\n",
       "      <td>Firewall</td>\n",
       "    </tr>\n",
       "    <tr>\n",
       "      <th>2</th>\n",
       "      <td>2022-11-13 08:23:25</td>\n",
       "      <td>63.79.210.48</td>\n",
       "      <td>198.219.82.17</td>\n",
       "      <td>16811</td>\n",
       "      <td>53600</td>\n",
       "      <td>UDP</td>\n",
       "      <td>306</td>\n",
       "      <td>Control</td>\n",
       "      <td>HTTP</td>\n",
       "      <td>Perferendis sapiente vitae soluta. Hic delectu...</td>\n",
       "      <td>...</td>\n",
       "      <td>Ignored</td>\n",
       "      <td>Low</td>\n",
       "      <td>Himmat Karpe</td>\n",
       "      <td>Mozilla/5.0 (compatible; MSIE 9.0; Windows NT ...</td>\n",
       "      <td>Segment C</td>\n",
       "      <td>Bokaro, Rajasthan</td>\n",
       "      <td>114.133.48.179</td>\n",
       "      <td>Log Data</td>\n",
       "      <td>Alert Data</td>\n",
       "      <td>Firewall</td>\n",
       "    </tr>\n",
       "    <tr>\n",
       "      <th>3</th>\n",
       "      <td>2023-07-02 10:38:46</td>\n",
       "      <td>163.42.196.10</td>\n",
       "      <td>101.228.192.255</td>\n",
       "      <td>20018</td>\n",
       "      <td>32534</td>\n",
       "      <td>UDP</td>\n",
       "      <td>385</td>\n",
       "      <td>Data</td>\n",
       "      <td>HTTP</td>\n",
       "      <td>Totam maxime beatae expedita explicabo porro l...</td>\n",
       "      <td>...</td>\n",
       "      <td>Blocked</td>\n",
       "      <td>Medium</td>\n",
       "      <td>Fateh Kibe</td>\n",
       "      <td>Mozilla/5.0 (Macintosh; PPC Mac OS X 10_11_5; ...</td>\n",
       "      <td>Segment B</td>\n",
       "      <td>Jaunpur, Rajasthan</td>\n",
       "      <td>NaN</td>\n",
       "      <td>NaN</td>\n",
       "      <td>Alert Data</td>\n",
       "      <td>Firewall</td>\n",
       "    </tr>\n",
       "    <tr>\n",
       "      <th>4</th>\n",
       "      <td>2023-07-16 13:11:07</td>\n",
       "      <td>71.166.185.76</td>\n",
       "      <td>189.243.174.238</td>\n",
       "      <td>6131</td>\n",
       "      <td>26646</td>\n",
       "      <td>TCP</td>\n",
       "      <td>1462</td>\n",
       "      <td>Data</td>\n",
       "      <td>DNS</td>\n",
       "      <td>Odit nesciunt dolorem nisi iste iusto. Animi v...</td>\n",
       "      <td>...</td>\n",
       "      <td>Blocked</td>\n",
       "      <td>Low</td>\n",
       "      <td>Dhanush Chad</td>\n",
       "      <td>Mozilla/5.0 (compatible; MSIE 5.0; Windows NT ...</td>\n",
       "      <td>Segment C</td>\n",
       "      <td>Anantapur, Tripura</td>\n",
       "      <td>149.6.110.119</td>\n",
       "      <td>NaN</td>\n",
       "      <td>Alert Data</td>\n",
       "      <td>Firewall</td>\n",
       "    </tr>\n",
       "  </tbody>\n",
       "</table>\n",
       "<p>5 rows × 25 columns</p>\n",
       "</div>"
      ],
      "text/plain": [
       "             Timestamp Source IP Address Destination IP Address  Source Port  \\\n",
       "0  2023-05-30 06:33:58     103.216.15.12           84.9.164.252        31225   \n",
       "1  2020-08-26 07:08:30    78.199.217.198         66.191.137.154        17245   \n",
       "2  2022-11-13 08:23:25      63.79.210.48          198.219.82.17        16811   \n",
       "3  2023-07-02 10:38:46     163.42.196.10        101.228.192.255        20018   \n",
       "4  2023-07-16 13:11:07     71.166.185.76        189.243.174.238         6131   \n",
       "\n",
       "   Destination Port Protocol  Packet Length Packet Type Traffic Type  \\\n",
       "0             17616     ICMP            503        Data         HTTP   \n",
       "1             48166     ICMP           1174        Data         HTTP   \n",
       "2             53600      UDP            306     Control         HTTP   \n",
       "3             32534      UDP            385        Data         HTTP   \n",
       "4             26646      TCP           1462        Data          DNS   \n",
       "\n",
       "                                        Payload Data  ... Action Taken  \\\n",
       "0  Qui natus odio asperiores nam. Optio nobis ius...  ...       Logged   \n",
       "1  Aperiam quos modi officiis veritatis rem. Omni...  ...      Blocked   \n",
       "2  Perferendis sapiente vitae soluta. Hic delectu...  ...      Ignored   \n",
       "3  Totam maxime beatae expedita explicabo porro l...  ...      Blocked   \n",
       "4  Odit nesciunt dolorem nisi iste iusto. Animi v...  ...      Blocked   \n",
       "\n",
       "   Severity Level User Information  \\\n",
       "0             Low    Reyansh Dugal   \n",
       "1             Low       Sumer Rana   \n",
       "2             Low     Himmat Karpe   \n",
       "3          Medium       Fateh Kibe   \n",
       "4             Low     Dhanush Chad   \n",
       "\n",
       "                                  Device Information Network Segment  \\\n",
       "0  Mozilla/5.0 (compatible; MSIE 8.0; Windows NT ...       Segment A   \n",
       "1  Mozilla/5.0 (compatible; MSIE 8.0; Windows NT ...       Segment B   \n",
       "2  Mozilla/5.0 (compatible; MSIE 9.0; Windows NT ...       Segment C   \n",
       "3  Mozilla/5.0 (Macintosh; PPC Mac OS X 10_11_5; ...       Segment B   \n",
       "4  Mozilla/5.0 (compatible; MSIE 5.0; Windows NT ...       Segment C   \n",
       "\n",
       "    Geo-location Data Proxy Information Firewall Logs IDS/IPS Alerts  \\\n",
       "0  Jamshedpur, Sikkim      150.9.97.135      Log Data            NaN   \n",
       "1  Bilaspur, Nagaland               NaN      Log Data            NaN   \n",
       "2   Bokaro, Rajasthan    114.133.48.179      Log Data     Alert Data   \n",
       "3  Jaunpur, Rajasthan               NaN           NaN     Alert Data   \n",
       "4  Anantapur, Tripura     149.6.110.119           NaN     Alert Data   \n",
       "\n",
       "  Log Source  \n",
       "0     Server  \n",
       "1   Firewall  \n",
       "2   Firewall  \n",
       "3   Firewall  \n",
       "4   Firewall  \n",
       "\n",
       "[5 rows x 25 columns]"
      ]
     },
     "execution_count": 10,
     "metadata": {},
     "output_type": "execute_result"
    }
   ],
   "source": [
    "cyber_attacks.head()"
   ]
  },
  {
   "cell_type": "markdown",
   "id": "e5d5554f",
   "metadata": {},
   "source": [
    "## Exploring the Data\n",
    "\n",
    "Now that we have loaded in the data, we should look through it for missing values and features that we may need to change or manipulate."
   ]
  },
  {
   "cell_type": "code",
   "execution_count": 12,
   "id": "47abc585",
   "metadata": {},
   "outputs": [
    {
     "name": "stdout",
     "output_type": "stream",
     "text": [
      "<class 'pandas.core.frame.DataFrame'>\n",
      "RangeIndex: 40000 entries, 0 to 39999\n",
      "Data columns (total 25 columns):\n",
      " #   Column                  Non-Null Count  Dtype  \n",
      "---  ------                  --------------  -----  \n",
      " 0   Timestamp               40000 non-null  object \n",
      " 1   Source IP Address       40000 non-null  object \n",
      " 2   Destination IP Address  40000 non-null  object \n",
      " 3   Source Port             40000 non-null  int64  \n",
      " 4   Destination Port        40000 non-null  int64  \n",
      " 5   Protocol                40000 non-null  object \n",
      " 6   Packet Length           40000 non-null  int64  \n",
      " 7   Packet Type             40000 non-null  object \n",
      " 8   Traffic Type            40000 non-null  object \n",
      " 9   Payload Data            40000 non-null  object \n",
      " 10  Malware Indicators      20000 non-null  object \n",
      " 11  Anomaly Scores          40000 non-null  float64\n",
      " 12  Alerts/Warnings         19933 non-null  object \n",
      " 13  Attack Type             40000 non-null  object \n",
      " 14  Attack Signature        40000 non-null  object \n",
      " 15  Action Taken            40000 non-null  object \n",
      " 16  Severity Level          40000 non-null  object \n",
      " 17  User Information        40000 non-null  object \n",
      " 18  Device Information      40000 non-null  object \n",
      " 19  Network Segment         40000 non-null  object \n",
      " 20  Geo-location Data       40000 non-null  object \n",
      " 21  Proxy Information       20149 non-null  object \n",
      " 22  Firewall Logs           20039 non-null  object \n",
      " 23  IDS/IPS Alerts          19950 non-null  object \n",
      " 24  Log Source              40000 non-null  object \n",
      "dtypes: float64(1), int64(3), object(21)\n",
      "memory usage: 7.6+ MB\n"
     ]
    }
   ],
   "source": [
    "cyber_attacks.info()"
   ]
  },
  {
   "cell_type": "markdown",
   "id": "75d235a4",
   "metadata": {},
   "source": [
    "As we can see, the dataset has a total of 40000 records and 25 features.\n",
    "\n",
    "For the target variable, we would like to use \"Severity Level\" since that is the most applicable to our project.\n",
    "\n",
    "In addition, most features aren't missing any values. Only \"Alerts/Warnings\", \"Malware Indicators\", \"Proxy Information\", \"Firewall Logs\", and \"IDS/IPS Alerts\" are missing half. Thus, lets look into these to see if they're important"
   ]
  },
  {
   "cell_type": "code",
   "execution_count": 14,
   "id": "2fc7a57a",
   "metadata": {},
   "outputs": [
    {
     "data": {
      "text/plain": [
       "Malware Indicators\n",
       "IoC Detected    20000\n",
       "Name: count, dtype: int64"
      ]
     },
     "execution_count": 14,
     "metadata": {},
     "output_type": "execute_result"
    }
   ],
   "source": [
    "cyber_attacks[\"Malware Indicators\"].value_counts()"
   ]
  },
  {
   "cell_type": "code",
   "execution_count": 15,
   "id": "ea671f1c",
   "metadata": {},
   "outputs": [
    {
     "data": {
      "text/plain": [
       "Alerts/Warnings\n",
       "Alert Triggered    19933\n",
       "Name: count, dtype: int64"
      ]
     },
     "execution_count": 15,
     "metadata": {},
     "output_type": "execute_result"
    }
   ],
   "source": [
    "cyber_attacks[\"Alerts/Warnings\"].value_counts()"
   ]
  },
  {
   "cell_type": "code",
   "execution_count": 16,
   "id": "0f0da47a",
   "metadata": {},
   "outputs": [
    {
     "data": {
      "text/plain": [
       "Proxy Information\n",
       "39.123.165.122     2\n",
       "150.9.97.135       1\n",
       "198.80.71.196      1\n",
       "108.143.243.168    1\n",
       "211.195.173.251    1\n",
       "                  ..\n",
       "205.112.169.158    1\n",
       "78.192.52.63       1\n",
       "157.191.153.187    1\n",
       "205.183.87.116     1\n",
       "112.169.115.139    1\n",
       "Name: count, Length: 20148, dtype: int64"
      ]
     },
     "execution_count": 16,
     "metadata": {},
     "output_type": "execute_result"
    }
   ],
   "source": [
    "cyber_attacks[\"Proxy Information\"].value_counts()"
   ]
  },
  {
   "cell_type": "code",
   "execution_count": 17,
   "id": "3031f873",
   "metadata": {},
   "outputs": [
    {
     "data": {
      "text/plain": [
       "Firewall Logs\n",
       "Log Data    20039\n",
       "Name: count, dtype: int64"
      ]
     },
     "execution_count": 17,
     "metadata": {},
     "output_type": "execute_result"
    }
   ],
   "source": [
    "cyber_attacks[\"Firewall Logs\"].value_counts()"
   ]
  },
  {
   "cell_type": "code",
   "execution_count": 18,
   "id": "7b7612bc",
   "metadata": {},
   "outputs": [
    {
     "data": {
      "text/plain": [
       "IDS/IPS Alerts\n",
       "Alert Data    19950\n",
       "Name: count, dtype: int64"
      ]
     },
     "execution_count": 18,
     "metadata": {},
     "output_type": "execute_result"
    }
   ],
   "source": [
    "cyber_attacks[\"IDS/IPS Alerts\"].value_counts()"
   ]
  },
  {
   "cell_type": "markdown",
   "id": "0a4dc793",
   "metadata": {},
   "source": [
    "As we can see, most of these features are actually binary features. Thus, when we prepare the data, we can transform these into binary features. As for \"Proxy Information\", it seems to be the proxy's IP address, which is very unique. As a result, it might be best to ignore this field for now."
   ]
  },
  {
   "cell_type": "markdown",
   "id": "ab952bd2",
   "metadata": {},
   "source": [
    "Lets look at the rest of the data:"
   ]
  },
  {
   "cell_type": "markdown",
   "id": "0dcf7f1d",
   "metadata": {},
   "source": [
    "#### Timestamp"
   ]
  },
  {
   "cell_type": "code",
   "execution_count": 22,
   "id": "2eb705e1",
   "metadata": {},
   "outputs": [
    {
     "name": "stdout",
     "output_type": "stream",
     "text": [
      "Earliest Attack: 2020-01-01 00:43:27\n",
      "Latest Attack: 2023-10-11 19:34:23\n"
     ]
    }
   ],
   "source": [
    "print( \"Earliest Attack:\", min( cyber_attacks[\"Timestamp\"] ) )\n",
    "print( \"Latest Attack:\", max( cyber_attacks[\"Timestamp\"] ) )"
   ]
  },
  {
   "cell_type": "markdown",
   "id": "bfb77b6f",
   "metadata": {},
   "source": [
    "It seems the time of attacks are all between 2020 to 2023. It would be nice to encode all of this data. Looking around on Google, this article (https://harrisonpim.com/blog/the-best-way-to-encode-dates-times-and-other-cyclical-features) and (https://stats.stackexchange.com/questions/311494/best-practice-for-encoding-datetime-in-machine-learning) provides some insight on how to encode datetime. We can divide the timestamp to year, month, day, and time, and get their sin and cosine (except for year since it isn't cyclical). These two variables save the cyclical behavior of the time, so distance between them are still being represented.\n",
    "\n",
    "Thus, when we deal with timestamp, we should first separate it and transform the parts to representable features"
   ]
  },
  {
   "cell_type": "markdown",
   "id": "3ed279f3",
   "metadata": {},
   "source": [
    "#### IP Addresses"
   ]
  },
  {
   "cell_type": "code",
   "execution_count": 25,
   "id": "0ec1a90a",
   "metadata": {},
   "outputs": [
    {
     "data": {
      "text/plain": [
       "Source IP Address\n",
       "103.216.15.12      1\n",
       "74.225.47.66       1\n",
       "147.178.224.232    1\n",
       "119.183.250.156    1\n",
       "80.60.140.131      1\n",
       "                  ..\n",
       "8.73.26.79         1\n",
       "15.232.18.232      1\n",
       "71.157.156.214     1\n",
       "200.15.203.154     1\n",
       "14.102.21.108      1\n",
       "Name: count, Length: 40000, dtype: int64"
      ]
     },
     "execution_count": 25,
     "metadata": {},
     "output_type": "execute_result"
    }
   ],
   "source": [
    "cyber_attacks[\"Source IP Address\"].value_counts()"
   ]
  },
  {
   "cell_type": "code",
   "execution_count": 26,
   "id": "2766d075",
   "metadata": {},
   "outputs": [
    {
     "data": {
      "text/plain": [
       "Destination IP Address\n",
       "84.9.164.252       1\n",
       "131.248.231.186    1\n",
       "48.157.39.218      1\n",
       "112.135.140.167    1\n",
       "125.252.191.10     1\n",
       "                  ..\n",
       "46.159.49.250      1\n",
       "186.100.212.78     1\n",
       "168.135.234.183    1\n",
       "22.16.168.57       1\n",
       "109.198.45.7       1\n",
       "Name: count, Length: 40000, dtype: int64"
      ]
     },
     "execution_count": 26,
     "metadata": {},
     "output_type": "execute_result"
    }
   ],
   "source": [
    "cyber_attacks[\"Destination IP Address\"].value_counts()"
   ]
  },
  {
   "cell_type": "markdown",
   "id": "4c2dda32",
   "metadata": {},
   "source": [
    "Similar to \"Proxy Information\", each IP address is unique in both sender and receiver. Thus, it's probably not worthwhile to transform this data into something usable. So, when preparing the data, we should remove these 2 features"
   ]
  },
  {
   "cell_type": "markdown",
   "id": "b91af7bf",
   "metadata": {},
   "source": [
    "#### Ports"
   ]
  },
  {
   "cell_type": "code",
   "execution_count": 29,
   "id": "8180f452",
   "metadata": {},
   "outputs": [
    {
     "data": {
      "text/plain": [
       "Source Port\n",
       "41341    6\n",
       "31656    5\n",
       "8653     5\n",
       "24528    5\n",
       "60026    5\n",
       "        ..\n",
       "49864    1\n",
       "17928    1\n",
       "20877    1\n",
       "45259    1\n",
       "50137    1\n",
       "Name: count, Length: 29761, dtype: int64"
      ]
     },
     "execution_count": 29,
     "metadata": {},
     "output_type": "execute_result"
    }
   ],
   "source": [
    "cyber_attacks[\"Source Port\"].value_counts()"
   ]
  },
  {
   "cell_type": "code",
   "execution_count": 30,
   "id": "40afe445",
   "metadata": {},
   "outputs": [
    {
     "data": {
      "text/plain": [
       "Destination Port\n",
       "34117    6\n",
       "7508     6\n",
       "30804    5\n",
       "37248    5\n",
       "57508    5\n",
       "        ..\n",
       "7380     1\n",
       "55244    1\n",
       "60637    1\n",
       "3884     1\n",
       "25152    1\n",
       "Name: count, Length: 29895, dtype: int64"
      ]
     },
     "execution_count": 30,
     "metadata": {},
     "output_type": "execute_result"
    }
   ],
   "source": [
    "cyber_attacks[\"Destination Port\"].value_counts()"
   ]
  },
  {
   "cell_type": "markdown",
   "id": "c0a2f16b",
   "metadata": {},
   "source": [
    "Similar to IP Addresses, the number of unique ports is too large. It isn't a numerical feature, so if we converted it to a categorical feature, it would add over ten thousand features. Thus, we should also discard these as well."
   ]
  },
  {
   "cell_type": "markdown",
   "id": "a8ba4e39",
   "metadata": {},
   "source": [
    "#### Protocol, Packet, and Traffic"
   ]
  },
  {
   "cell_type": "code",
   "execution_count": 33,
   "id": "57ccd889",
   "metadata": {},
   "outputs": [
    {
     "data": {
      "text/plain": [
       "Protocol\n",
       "ICMP    13429\n",
       "UDP     13299\n",
       "TCP     13272\n",
       "Name: count, dtype: int64"
      ]
     },
     "execution_count": 33,
     "metadata": {},
     "output_type": "execute_result"
    }
   ],
   "source": [
    "cyber_attacks[\"Protocol\"].value_counts()"
   ]
  },
  {
   "cell_type": "code",
   "execution_count": 34,
   "id": "a028e831",
   "metadata": {},
   "outputs": [],
   "source": [
    "# Packet Length is numerical, so lets see the histogram of it\n",
    "import seaborn as sns"
   ]
  },
  {
   "cell_type": "code",
   "execution_count": 35,
   "id": "6cf5ae5f",
   "metadata": {},
   "outputs": [
    {
     "data": {
      "text/plain": [
       "<Axes: xlabel='Packet Length', ylabel='Count'>"
      ]
     },
     "execution_count": 35,
     "metadata": {},
     "output_type": "execute_result"
    },
    {
     "data": {
      "image/png": "[encoded data removed]",
      "text/plain": [
       "<Figure size 640x480 with 1 Axes>"
      ]
     },
     "metadata": {},
     "output_type": "display_data"
    }
   ],
   "source": [
    "sns.histplot( cyber_attacks[\"Packet Length\"] )"
   ]
  },
  {
   "cell_type": "code",
   "execution_count": 36,
   "id": "9f3dd214",
   "metadata": {},
   "outputs": [
    {
     "data": {
      "text/plain": [
       "Packet Type\n",
       "Control    20237\n",
       "Data       19763\n",
       "Name: count, dtype: int64"
      ]
     },
     "execution_count": 36,
     "metadata": {},
     "output_type": "execute_result"
    }
   ],
   "source": [
    "cyber_attacks[\"Packet Type\"].value_counts()"
   ]
  },
  {
   "cell_type": "code",
   "execution_count": 37,
   "id": "3a39cb0c",
   "metadata": {},
   "outputs": [
    {
     "data": {
      "text/plain": [
       "Traffic Type\n",
       "DNS     13376\n",
       "HTTP    13360\n",
       "FTP     13264\n",
       "Name: count, dtype: int64"
      ]
     },
     "execution_count": 37,
     "metadata": {},
     "output_type": "execute_result"
    }
   ],
   "source": [
    "cyber_attacks[\"Traffic Type\"].value_counts()"
   ]
  },
  {
   "cell_type": "markdown",
   "id": "49d462f6",
   "metadata": {},
   "source": [
    "As we can see, these 4 features are actually very well evenly distributed. Thus, there's not much to do for these features except for scaling the packet length"
   ]
  },
  {
   "cell_type": "markdown",
   "id": "8e8a843f",
   "metadata": {},
   "source": [
    "#### Payload Data"
   ]
  },
  {
   "cell_type": "code",
   "execution_count": 40,
   "id": "93beebc9",
   "metadata": {},
   "outputs": [
    {
     "data": {
      "text/plain": [
       "0    Qui natus odio asperiores nam. Optio nobis ius...\n",
       "1    Aperiam quos modi officiis veritatis rem. Omni...\n",
       "2    Perferendis sapiente vitae soluta. Hic delectu...\n",
       "3    Totam maxime beatae expedita explicabo porro l...\n",
       "4    Odit nesciunt dolorem nisi iste iusto. Animi v...\n",
       "Name: Payload Data, dtype: object"
      ]
     },
     "execution_count": 40,
     "metadata": {},
     "output_type": "execute_result"
    }
   ],
   "source": [
    "cyber_attacks[\"Payload Data\"].head()"
   ]
  },
  {
   "cell_type": "markdown",
   "id": "d0db8220",
   "metadata": {},
   "source": [
    "From what we can see, the payload data is all in Latin text. In addition, they are all pretty unique. We could change this to length of payload data, which could intersect with \"Packet Length\". But it should be okay since they are separate features"
   ]
  },
  {
   "cell_type": "markdown",
   "id": "36616691",
   "metadata": {},
   "source": [
    "#### Attack Details"
   ]
  },
  {
   "cell_type": "code",
   "execution_count": 43,
   "id": "f4f022af",
   "metadata": {},
   "outputs": [
    {
     "data": {
      "text/plain": [
       "<Axes: xlabel='Anomaly Scores', ylabel='Count'>"
      ]
     },
     "execution_count": 43,
     "metadata": {},
     "output_type": "execute_result"
    },
    {
     "data": {
      "image/png": "[encoded data removed]",
      "text/plain": [
       "<Figure size 640x480 with 1 Axes>"
      ]
     },
     "metadata": {},
     "output_type": "display_data"
    }
   ],
   "source": [
    "sns.histplot( cyber_attacks[\"Anomaly Scores\"] )"
   ]
  },
  {
   "cell_type": "code",
   "execution_count": 44,
   "id": "61e84a27",
   "metadata": {},
   "outputs": [
    {
     "data": {
      "text/plain": [
       "Attack Type\n",
       "DDoS         13428\n",
       "Malware      13307\n",
       "Intrusion    13265\n",
       "Name: count, dtype: int64"
      ]
     },
     "execution_count": 44,
     "metadata": {},
     "output_type": "execute_result"
    }
   ],
   "source": [
    "cyber_attacks[\"Attack Type\"].value_counts()"
   ]
  },
  {
   "cell_type": "code",
   "execution_count": 45,
   "id": "4fde25b2",
   "metadata": {},
   "outputs": [
    {
     "data": {
      "text/plain": [
       "Attack Signature\n",
       "Known Pattern A    20076\n",
       "Known Pattern B    19924\n",
       "Name: count, dtype: int64"
      ]
     },
     "execution_count": 45,
     "metadata": {},
     "output_type": "execute_result"
    }
   ],
   "source": [
    "cyber_attacks[\"Attack Signature\"].value_counts()"
   ]
  },
  {
   "cell_type": "code",
   "execution_count": 46,
   "id": "15715257",
   "metadata": {},
   "outputs": [
    {
     "data": {
      "text/plain": [
       "Action Taken\n",
       "Blocked    13529\n",
       "Ignored    13276\n",
       "Logged     13195\n",
       "Name: count, dtype: int64"
      ]
     },
     "execution_count": 46,
     "metadata": {},
     "output_type": "execute_result"
    }
   ],
   "source": [
    "cyber_attacks[\"Action Taken\"].value_counts()"
   ]
  },
  {
   "cell_type": "code",
   "execution_count": 47,
   "id": "77f8dada",
   "metadata": {},
   "outputs": [
    {
     "data": {
      "text/plain": [
       "Severity Level\n",
       "Medium    13435\n",
       "High      13382\n",
       "Low       13183\n",
       "Name: count, dtype: int64"
      ]
     },
     "execution_count": 47,
     "metadata": {},
     "output_type": "execute_result"
    }
   ],
   "source": [
    "cyber_attacks[\"Severity Level\"].value_counts()"
   ]
  },
  {
   "cell_type": "markdown",
   "id": "46ce1324",
   "metadata": {},
   "source": [
    "Similarly, all of these features are evenly distributed as well. Nothing much to do except scale the anomaly score."
   ]
  },
  {
   "cell_type": "markdown",
   "id": "c25c82fb",
   "metadata": {},
   "source": [
    "#### User/Device Information"
   ]
  },
  {
   "cell_type": "code",
   "execution_count": 50,
   "id": "0351a753",
   "metadata": {},
   "outputs": [
    {
     "data": {
      "text/plain": [
       "User Information\n",
       "Ishaan Chaudhari    6\n",
       "Heer Lad            6\n",
       "Ishita Chaudry      5\n",
       "Yasmin Ghose        5\n",
       "Tara Madan          5\n",
       "                   ..\n",
       "Mohanlal Date       1\n",
       "Indrans Randhawa    1\n",
       "Uthkarsh Baria      1\n",
       "Miraya Dua          1\n",
       "Zaina Kumar         1\n",
       "Name: count, Length: 32389, dtype: int64"
      ]
     },
     "execution_count": 50,
     "metadata": {},
     "output_type": "execute_result"
    }
   ],
   "source": [
    "cyber_attacks[\"User Information\"].value_counts()"
   ]
  },
  {
   "cell_type": "code",
   "execution_count": 51,
   "id": "b6b801a4",
   "metadata": {},
   "outputs": [
    {
     "data": {
      "text/plain": [
       "Device Information\n",
       "Mozilla/5.0 (compatible; MSIE 6.0; Windows NT 6.2; Trident/3.0)                                                                                       35\n",
       "Mozilla/5.0 (compatible; MSIE 5.0; Windows 98; Trident/4.1)                                                                                           34\n",
       "Mozilla/5.0 (compatible; MSIE 6.0; Windows CE; Trident/4.0)                                                                                           33\n",
       "Mozilla/5.0 (compatible; MSIE 7.0; Windows NT 6.0; Trident/3.0)                                                                                       31\n",
       "Mozilla/5.0 (compatible; MSIE 5.0; Windows NT 5.2; Trident/4.1)                                                                                       31\n",
       "                                                                                                                                                      ..\n",
       "Mozilla/5.0 (Macintosh; PPC Mac OS X 10_9_2; rv:1.9.2.20) Gecko/6474-09-17 07:53:12 Firefox/3.6.9                                                      1\n",
       "Mozilla/5.0 (iPhone; CPU iPhone OS 14_2 like Mac OS X) AppleWebKit/535.0 (KHTML, like Gecko) CriOS/19.0.850.0 Mobile/88P921 Safari/535.0               1\n",
       "Mozilla/5.0 (Windows NT 5.0; km-KH; rv:1.9.2.20) Gecko/7799-03-13 07:30:55 Firefox/3.8                                                                 1\n",
       "Mozilla/5.0 (X11; Linux i686; rv:1.9.7.20) Gecko/6248-04-01 13:49:59 Firefox/3.8                                                                       1\n",
       "Mozilla/5.0 (iPod; U; CPU iPhone OS 3_0 like Mac OS X; tg-TJ) AppleWebKit/534.33.5 (KHTML, like Gecko) Version/4.0.5 Mobile/8B116 Safari/6534.33.5     1\n",
       "Name: count, Length: 32104, dtype: int64"
      ]
     },
     "execution_count": 51,
     "metadata": {},
     "output_type": "execute_result"
    }
   ],
   "source": [
    "cyber_attacks[\"Device Information\"].value_counts()"
   ]
  },
  {
   "cell_type": "code",
   "execution_count": 52,
   "id": "456840c4",
   "metadata": {},
   "outputs": [
    {
     "data": {
      "text/plain": [
       "Network Segment\n",
       "Segment C    13408\n",
       "Segment B    13319\n",
       "Segment A    13273\n",
       "Name: count, dtype: int64"
      ]
     },
     "execution_count": 52,
     "metadata": {},
     "output_type": "execute_result"
    }
   ],
   "source": [
    "cyber_attacks[\"Network Segment\"].value_counts()"
   ]
  },
  {
   "cell_type": "code",
   "execution_count": 53,
   "id": "17097d46",
   "metadata": {},
   "outputs": [
    {
     "data": {
      "text/plain": [
       "Geo-location Data\n",
       "Ghaziabad, Meghalaya          16\n",
       "Kalyan-Dombivli, Jharkhand    15\n",
       "Ghaziabad, Uttarakhand        14\n",
       "Ghaziabad, Tripura            14\n",
       "Kottayam, Nagaland            13\n",
       "                              ..\n",
       "Jamnagar, Telangana            1\n",
       "Chandrapur, Nagaland           1\n",
       "Giridih, Tamil Nadu            1\n",
       "Gwalior, Rajasthan             1\n",
       "Nagpur, Punjab                 1\n",
       "Name: count, Length: 8723, dtype: int64"
      ]
     },
     "execution_count": 53,
     "metadata": {},
     "output_type": "execute_result"
    }
   ],
   "source": [
    "cyber_attacks[\"Geo-location Data\"].value_counts()"
   ]
  },
  {
   "cell_type": "markdown",
   "id": "17a31858",
   "metadata": {},
   "source": [
    "As we can see, User Information and Device Information are also very unique. We probably can't do much for User Information, but we could just extract the browser itself. And if we have any additional time, we could also extract the device as well, however, this requires a lot more filtering and cleaning.\n",
    "\n",
    "As for geo-location data, these seem to all be locations in Indian. Alas, there are too many unique locations to use them as categorical features.\n",
    "\n",
    "Lastly, \"Network Segment\" is nicely distributed so it's fine."
   ]
  },
  {
   "cell_type": "markdown",
   "id": "0ca0399b",
   "metadata": {},
   "source": [
    "#### ISP/Network Details"
   ]
  },
  {
   "cell_type": "markdown",
   "id": "51e46757",
   "metadata": {},
   "source": [
    "\"Firewall Logs\" and \"IDS/IPS Alerts\" have already been explored when we were dealing with missing data."
   ]
  },
  {
   "cell_type": "code",
   "execution_count": 57,
   "id": "a3c517ea",
   "metadata": {},
   "outputs": [
    {
     "data": {
      "text/plain": [
       "Log Source\n",
       "Firewall    20116\n",
       "Server      19884\n",
       "Name: count, dtype: int64"
      ]
     },
     "execution_count": 57,
     "metadata": {},
     "output_type": "execute_result"
    }
   ],
   "source": [
    "cyber_attacks[\"Log Source\"].value_counts()"
   ]
  },
  {
   "cell_type": "markdown",
   "id": "cca8b288",
   "metadata": {},
   "source": [
    "It seems \"Log Source\" is also distributed well, so it's good"
   ]
  },
  {
   "cell_type": "markdown",
   "id": "19750f17",
   "metadata": {},
   "source": [
    "### Summary of Exploration Results"
   ]
  },
  {
   "cell_type": "markdown",
   "id": "3d55b7af",
   "metadata": {},
   "source": [
    "From what we found, it seems like a lot of the features are evenly distributed. They're distributed so well that it makes one question whether the data itself is realistic or not. Apparently, Incribo says this dataset is just a sample. So perhaps this sample was selected to be as well distributed as possible from the full dataset.\n",
    "\n",
    "Besides that, we discovered a few things we need to do when cleaning the data:\n",
    "1) Remove \"Proxy Information\", \"Geo-location Data\", \"User Information\", \"Source IP Address\", \"Destination IP Address\", \"Source IP Address\", \"Source Port\", \"Destination Port\" due to their large amount of unique values\n",
    "2) Convert \"Timestamp\" into cyclical features\n",
    "3) Convert \"Payload Data\" to the length of payload data\n",
    "4) Extract the used browser from \"Device Information\""
   ]
  },
  {
   "cell_type": "markdown",
   "id": "29e1e1b6",
   "metadata": {},
   "source": [
    "## Preparing/Engineering the Features"
   ]
  },
  {
   "cell_type": "markdown",
   "id": "88918ee6",
   "metadata": {},
   "source": [
    "From what we discovered from our exploration, we now need to prepare the data for training."
   ]
  },
  {
   "cell_type": "markdown",
   "id": "539b275a-f05f-4174-83f9-7c46edfe3085",
   "metadata": {},
   "source": [
    "### Preparing the Data"
   ]
  },
  {
   "cell_type": "code",
   "execution_count": 114,
   "id": "2a8ab564",
   "metadata": {},
   "outputs": [
    {
     "name": "stdout",
     "output_type": "stream",
     "text": [
      "<class 'pandas.core.frame.DataFrame'>\n",
      "RangeIndex: 40000 entries, 0 to 39999\n",
      "Data columns (total 18 columns):\n",
      " #   Column              Non-Null Count  Dtype  \n",
      "---  ------              --------------  -----  \n",
      " 0   Timestamp           40000 non-null  object \n",
      " 1   Protocol            40000 non-null  object \n",
      " 2   Packet Length       40000 non-null  int64  \n",
      " 3   Packet Type         40000 non-null  object \n",
      " 4   Traffic Type        40000 non-null  object \n",
      " 5   Payload Data        40000 non-null  object \n",
      " 6   Malware Indicators  20000 non-null  object \n",
      " 7   Anomaly Scores      40000 non-null  float64\n",
      " 8   Alerts/Warnings     19933 non-null  object \n",
      " 9   Attack Type         40000 non-null  object \n",
      " 10  Attack Signature    40000 non-null  object \n",
      " 11  Action Taken        40000 non-null  object \n",
      " 12  Severity Level      40000 non-null  object \n",
      " 13  Device Information  40000 non-null  object \n",
      " 14  Network Segment     40000 non-null  object \n",
      " 15  Firewall Logs       20039 non-null  object \n",
      " 16  IDS/IPS Alerts      19950 non-null  object \n",
      " 17  Log Source          40000 non-null  object \n",
      "dtypes: float64(1), int64(1), object(16)\n",
      "memory usage: 5.5+ MB\n"
     ]
    }
   ],
   "source": [
    "# Remove the unusable features\n",
    "filtered_attacks = cyber_attacks.drop( [\"Proxy Information\", \n",
    "                                        \"Geo-location Data\", \n",
    "                                        \"User Information\", \n",
    "                                        \"Source IP Address\", \n",
    "                                        \"Destination IP Address\", \n",
    "                                        \"Source IP Address\", \n",
    "                                        \"Source Port\", \n",
    "                                        \"Destination Port\"], axis = 1 )\n",
    "filtered_attacks.info()"
   ]
  },
  {
   "cell_type": "code",
   "execution_count": 116,
   "id": "2f6e5fb6-03d7-40e0-8774-1aa76e1cda33",
   "metadata": {},
   "outputs": [
    {
     "data": {
      "text/plain": [
       "0        165\n",
       "1        196\n",
       "2         76\n",
       "3        193\n",
       "4        185\n",
       "        ... \n",
       "39995    140\n",
       "39996    163\n",
       "39997    196\n",
       "39998    149\n",
       "39999    175\n",
       "Name: Payload Data, Length: 40000, dtype: int64"
      ]
     },
     "execution_count": 116,
     "metadata": {},
     "output_type": "execute_result"
    }
   ],
   "source": [
    "# Convert \"Payload Data\" to length of Payload data\n",
    "newPayloadData = filtered_attacks[\"Payload Data\"].apply( len )\n",
    "newPayloadData"
   ]
  },
  {
   "cell_type": "code",
   "execution_count": 120,
   "id": "d8316511-56e0-41d7-973b-25ccf53c3fd9",
   "metadata": {},
   "outputs": [],
   "source": [
    "# Looks good, replace payload data with it\n",
    "filtered_attacks[\"Payload Data\"] = newPayloadData"
   ]
  },
  {
   "cell_type": "code",
   "execution_count": 136,
   "id": "98482d67-3892-4784-8bdb-15347b0654d6",
   "metadata": {},
   "outputs": [
    {
     "data": {
      "text/plain": [
       "Device Information\n",
       "Mozilla    31951\n",
       "Opera       8049\n",
       "Name: count, dtype: int64"
      ]
     },
     "execution_count": 136,
     "metadata": {},
     "output_type": "execute_result"
    }
   ],
   "source": [
    "# Extract User Browser from \"Device Information\n",
    "# We note that we the browsers include either Mozilla or Opera\n",
    "newDeviceInfo = filtered_attacks[\"Device Information\"].apply( lambda x : x[: x.find( \"/\" )] )\n",
    "newDeviceInfo.value_counts()"
   ]
  },
  {
   "cell_type": "code",
   "execution_count": 140,
   "id": "eab212a4-eea5-4a88-81ca-e4f702678abd",
   "metadata": {},
   "outputs": [
    {
     "name": "stdout",
     "output_type": "stream",
     "text": [
      "<class 'pandas.core.frame.DataFrame'>\n",
      "RangeIndex: 40000 entries, 0 to 39999\n",
      "Data columns (total 18 columns):\n",
      " #   Column              Non-Null Count  Dtype  \n",
      "---  ------              --------------  -----  \n",
      " 0   Timestamp           40000 non-null  object \n",
      " 1   Protocol            40000 non-null  object \n",
      " 2   Packet Length       40000 non-null  int64  \n",
      " 3   Packet Type         40000 non-null  object \n",
      " 4   Traffic Type        40000 non-null  object \n",
      " 5   Payload Data        40000 non-null  int64  \n",
      " 6   Malware Indicators  20000 non-null  object \n",
      " 7   Anomaly Scores      40000 non-null  float64\n",
      " 8   Alerts/Warnings     19933 non-null  object \n",
      " 9   Attack Type         40000 non-null  object \n",
      " 10  Attack Signature    40000 non-null  object \n",
      " 11  Action Taken        40000 non-null  object \n",
      " 12  Severity Level      40000 non-null  object \n",
      " 13  Network Segment     40000 non-null  object \n",
      " 14  Firewall Logs       20039 non-null  object \n",
      " 15  IDS/IPS Alerts      19950 non-null  object \n",
      " 16  Log Source          40000 non-null  object \n",
      " 17  Browser             40000 non-null  object \n",
      "dtypes: float64(1), int64(2), object(15)\n",
      "memory usage: 5.5+ MB\n"
     ]
    }
   ],
   "source": [
    "filtered_attacks[\"Browser\"] = newDeviceInfo\n",
    "filtered_attacks = filtered_attacks.drop( \"Device Information\", axis = 1 )\n",
    "filtered_attacks.info()"
   ]
  },
  {
   "cell_type": "code",
   "execution_count": 146,
   "id": "bc8d95eb-e9de-4fea-88a8-d73703ae5476",
   "metadata": {},
   "outputs": [],
   "source": [
    "# Transform Timestamp to cyclical features\n",
    "# First we need to convert timestamp to date time\n",
    "filtered_attacks[\"Timestamp\"] = pd.to_datetime( filtered_attacks[\"Timestamp\"] )"
   ]
  },
  {
   "cell_type": "code",
   "execution_count": 148,
   "id": "261ef618-5180-41f0-8be7-ea613d643b34",
   "metadata": {},
   "outputs": [
    {
     "name": "stdout",
     "output_type": "stream",
     "text": [
      "<class 'pandas.core.frame.DataFrame'>\n",
      "RangeIndex: 40000 entries, 0 to 39999\n",
      "Data columns (total 18 columns):\n",
      " #   Column              Non-Null Count  Dtype         \n",
      "---  ------              --------------  -----         \n",
      " 0   Timestamp           40000 non-null  datetime64[ns]\n",
      " 1   Protocol            40000 non-null  object        \n",
      " 2   Packet Length       40000 non-null  int64         \n",
      " 3   Packet Type         40000 non-null  object        \n",
      " 4   Traffic Type        40000 non-null  object        \n",
      " 5   Payload Data        40000 non-null  int64         \n",
      " 6   Malware Indicators  20000 non-null  object        \n",
      " 7   Anomaly Scores      40000 non-null  float64       \n",
      " 8   Alerts/Warnings     19933 non-null  object        \n",
      " 9   Attack Type         40000 non-null  object        \n",
      " 10  Attack Signature    40000 non-null  object        \n",
      " 11  Action Taken        40000 non-null  object        \n",
      " 12  Severity Level      40000 non-null  object        \n",
      " 13  Network Segment     40000 non-null  object        \n",
      " 14  Firewall Logs       20039 non-null  object        \n",
      " 15  IDS/IPS Alerts      19950 non-null  object        \n",
      " 16  Log Source          40000 non-null  object        \n",
      " 17  Browser             40000 non-null  object        \n",
      "dtypes: datetime64[ns](1), float64(1), int64(2), object(14)\n",
      "memory usage: 5.5+ MB\n"
     ]
    }
   ],
   "source": [
    "filtered_attacks.info()"
   ]
  },
  {
   "cell_type": "code",
   "execution_count": 158,
   "id": "edc22b4a-5ce1-4646-aceb-4c0609488c57",
   "metadata": {},
   "outputs": [],
   "source": [
    "# We want to divide it into year (categorical), month (cyclical), day (cyclical), and hour (cyclical)\n",
    "# So in total 3 + 2 + 2 + 2 = 9 new Features\n",
    "# We use CyclicalFeatures from feature_engine to easily convert the datetimes to their corresponding values\n",
    "from feature_engine.creation import CyclicalFeatures"
   ]
  },
  {
   "cell_type": "code",
   "execution_count": 204,
   "id": "dd98a6d9-8aec-49de-bd5b-066837fe1f61",
   "metadata": {},
   "outputs": [
    {
     "data": {
      "text/plain": [
       "0        2023\n",
       "1        2020\n",
       "2        2022\n",
       "3        2023\n",
       "4        2023\n",
       "         ... \n",
       "39995    2023\n",
       "39996    2023\n",
       "39997    2022\n",
       "39998    2023\n",
       "39999    2023\n",
       "Name: Year, Length: 40000, dtype: object"
      ]
     },
     "execution_count": 204,
     "metadata": {},
     "output_type": "execute_result"
    }
   ],
   "source": [
    "filtered_attacks[\"Year\"] = pd.DatetimeIndex(filtered_attacks['Timestamp']).year\n",
    "filtered_attacks[\"Year\"] = filtered_attacks[\"Year\"].apply( str )\n",
    "filtered_attacks[\"Year\"]"
   ]
  },
  {
   "cell_type": "code",
   "execution_count": 206,
   "id": "403447a0-27ae-436b-a7e4-a36858bb220f",
   "metadata": {},
   "outputs": [],
   "source": [
    "filtered_attacks[\"Month\"] = pd.DatetimeIndex(filtered_attacks['Timestamp']).month\n",
    "filtered_attacks[\"Day\"] = pd.DatetimeIndex(filtered_attacks['Timestamp']).day\n",
    "filtered_attacks[\"Hour\"] = pd.DatetimeIndex(filtered_attacks['Timestamp']).hour"
   ]
  },
  {
   "cell_type": "code",
   "execution_count": 208,
   "id": "ebc99d33-dced-417f-a7a6-f6d47588782a",
   "metadata": {},
   "outputs": [
    {
     "data": {
      "text/html": [
       "<div>\n",
       "<style scoped>\n",
       "    .dataframe tbody tr th:only-of-type {\n",
       "        vertical-align: middle;\n",
       "    }\n",
       "\n",
       "    .dataframe tbody tr th {\n",
       "        vertical-align: top;\n",
       "    }\n",
       "\n",
       "    .dataframe thead th {\n",
       "        text-align: right;\n",
       "    }\n",
       "</style>\n",
       "<table border=\"1\" class=\"dataframe\">\n",
       "  <thead>\n",
       "    <tr style=\"text-align: right;\">\n",
       "      <th></th>\n",
       "      <th>Year</th>\n",
       "      <th>Month</th>\n",
       "      <th>Day</th>\n",
       "      <th>Hour</th>\n",
       "    </tr>\n",
       "  </thead>\n",
       "  <tbody>\n",
       "    <tr>\n",
       "      <th>0</th>\n",
       "      <td>2023</td>\n",
       "      <td>5</td>\n",
       "      <td>30</td>\n",
       "      <td>6</td>\n",
       "    </tr>\n",
       "    <tr>\n",
       "      <th>1</th>\n",
       "      <td>2020</td>\n",
       "      <td>8</td>\n",
       "      <td>26</td>\n",
       "      <td>7</td>\n",
       "    </tr>\n",
       "    <tr>\n",
       "      <th>2</th>\n",
       "      <td>2022</td>\n",
       "      <td>11</td>\n",
       "      <td>13</td>\n",
       "      <td>8</td>\n",
       "    </tr>\n",
       "    <tr>\n",
       "      <th>3</th>\n",
       "      <td>2023</td>\n",
       "      <td>7</td>\n",
       "      <td>2</td>\n",
       "      <td>10</td>\n",
       "    </tr>\n",
       "    <tr>\n",
       "      <th>4</th>\n",
       "      <td>2023</td>\n",
       "      <td>7</td>\n",
       "      <td>16</td>\n",
       "      <td>13</td>\n",
       "    </tr>\n",
       "  </tbody>\n",
       "</table>\n",
       "</div>"
      ],
      "text/plain": [
       "   Year  Month  Day  Hour\n",
       "0  2023      5   30     6\n",
       "1  2020      8   26     7\n",
       "2  2022     11   13     8\n",
       "3  2023      7    2    10\n",
       "4  2023      7   16    13"
      ]
     },
     "execution_count": 208,
     "metadata": {},
     "output_type": "execute_result"
    }
   ],
   "source": [
    "filtered_attacks[[\"Year\",\"Month\",\"Day\",\"Hour\"]].head()"
   ]
  },
  {
   "cell_type": "code",
   "execution_count": 210,
   "id": "f6706619-a180-4336-8a04-7485803ddec9",
   "metadata": {},
   "outputs": [],
   "source": [
    "cf = CyclicalFeatures( variables = [\"Month\",\"Day\",\"Hour\"] )"
   ]
  },
  {
   "cell_type": "code",
   "execution_count": 212,
   "id": "df1a9b38-acad-45e7-a838-e684640d2b7f",
   "metadata": {},
   "outputs": [
    {
     "name": "stdout",
     "output_type": "stream",
     "text": [
      "<class 'pandas.core.frame.DataFrame'>\n",
      "RangeIndex: 40000 entries, 0 to 39999\n",
      "Data columns (total 28 columns):\n",
      " #   Column              Non-Null Count  Dtype         \n",
      "---  ------              --------------  -----         \n",
      " 0   Timestamp           40000 non-null  datetime64[ns]\n",
      " 1   Protocol            40000 non-null  object        \n",
      " 2   Packet Length       40000 non-null  int64         \n",
      " 3   Packet Type         40000 non-null  object        \n",
      " 4   Traffic Type        40000 non-null  object        \n",
      " 5   Payload Data        40000 non-null  int64         \n",
      " 6   Malware Indicators  20000 non-null  object        \n",
      " 7   Anomaly Scores      40000 non-null  float64       \n",
      " 8   Alerts/Warnings     19933 non-null  object        \n",
      " 9   Attack Type         40000 non-null  object        \n",
      " 10  Attack Signature    40000 non-null  object        \n",
      " 11  Action Taken        40000 non-null  object        \n",
      " 12  Severity Level      40000 non-null  object        \n",
      " 13  Network Segment     40000 non-null  object        \n",
      " 14  Firewall Logs       20039 non-null  object        \n",
      " 15  IDS/IPS Alerts      19950 non-null  object        \n",
      " 16  Log Source          40000 non-null  object        \n",
      " 17  Browser             40000 non-null  object        \n",
      " 18  Year                40000 non-null  object        \n",
      " 19  Month               40000 non-null  int32         \n",
      " 20  Day                 40000 non-null  int32         \n",
      " 21  Hour                40000 non-null  int32         \n",
      " 22  Month_sin           40000 non-null  float64       \n",
      " 23  Month_cos           40000 non-null  float64       \n",
      " 24  Day_sin             40000 non-null  float64       \n",
      " 25  Day_cos             40000 non-null  float64       \n",
      " 26  Hour_sin            40000 non-null  float64       \n",
      " 27  Hour_cos            40000 non-null  float64       \n",
      "dtypes: datetime64[ns](1), float64(7), int32(3), int64(2), object(15)\n",
      "memory usage: 8.1+ MB\n"
     ]
    }
   ],
   "source": [
    "cleaned_attacks = cf.fit_transform( filtered_attacks )\n",
    "cleaned_attacks.info()"
   ]
  },
  {
   "cell_type": "code",
   "execution_count": 214,
   "id": "7aba492b-c1c5-4132-957a-33bdb8cb27c8",
   "metadata": {},
   "outputs": [
    {
     "data": {
      "text/plain": [
       "Month_sin   -2.449294e-16\n",
       "Month_cos    1.000000e+00\n",
       "Name: 18, dtype: float64"
      ]
     },
     "execution_count": 214,
     "metadata": {},
     "output_type": "execute_result"
    }
   ],
   "source": [
    "# Check to see if the cyclical features are working as intended\n",
    "cleaned_attacks[[\"Month_sin\",\"Month_cos\"]][cleaned_attacks[\"Month\"] == 12].iloc[0]"
   ]
  },
  {
   "cell_type": "code",
   "execution_count": 216,
   "id": "c4b2995a-e23f-482c-b982-422981d38207",
   "metadata": {},
   "outputs": [
    {
     "data": {
      "text/plain": [
       "Month_sin    1.224647e-16\n",
       "Month_cos   -1.000000e+00\n",
       "Name: 8, dtype: float64"
      ]
     },
     "execution_count": 216,
     "metadata": {},
     "output_type": "execute_result"
    }
   ],
   "source": [
    "# We can see that June is the farthest away from December which is true\n",
    "cleaned_attacks[[\"Month_sin\",\"Month_cos\"]][cleaned_attacks[\"Month\"] == 6].iloc[0]"
   ]
  },
  {
   "cell_type": "code",
   "execution_count": 218,
   "id": "203c32e4-87c5-476a-ada9-79e520942a5a",
   "metadata": {},
   "outputs": [
    {
     "name": "stdout",
     "output_type": "stream",
     "text": [
      "<class 'pandas.core.frame.DataFrame'>\n",
      "RangeIndex: 40000 entries, 0 to 39999\n",
      "Data columns (total 24 columns):\n",
      " #   Column              Non-Null Count  Dtype  \n",
      "---  ------              --------------  -----  \n",
      " 0   Protocol            40000 non-null  object \n",
      " 1   Packet Length       40000 non-null  int64  \n",
      " 2   Packet Type         40000 non-null  object \n",
      " 3   Traffic Type        40000 non-null  object \n",
      " 4   Payload Data        40000 non-null  int64  \n",
      " 5   Malware Indicators  20000 non-null  object \n",
      " 6   Anomaly Scores      40000 non-null  float64\n",
      " 7   Alerts/Warnings     19933 non-null  object \n",
      " 8   Attack Type         40000 non-null  object \n",
      " 9   Attack Signature    40000 non-null  object \n",
      " 10  Action Taken        40000 non-null  object \n",
      " 11  Severity Level      40000 non-null  object \n",
      " 12  Network Segment     40000 non-null  object \n",
      " 13  Firewall Logs       20039 non-null  object \n",
      " 14  IDS/IPS Alerts      19950 non-null  object \n",
      " 15  Log Source          40000 non-null  object \n",
      " 16  Browser             40000 non-null  object \n",
      " 17  Year                40000 non-null  object \n",
      " 18  Month_sin           40000 non-null  float64\n",
      " 19  Month_cos           40000 non-null  float64\n",
      " 20  Day_sin             40000 non-null  float64\n",
      " 21  Day_cos             40000 non-null  float64\n",
      " 22  Hour_sin            40000 non-null  float64\n",
      " 23  Hour_cos            40000 non-null  float64\n",
      "dtypes: float64(7), int64(2), object(15)\n",
      "memory usage: 7.3+ MB\n"
     ]
    }
   ],
   "source": [
    "# Lastly, remove the Timestamp and other time features from the data\n",
    "clean_attacks = cleaned_attacks.drop( [\"Timestamp\",\"Month\",\"Day\",\"Hour\"], axis = 1 )\n",
    "clean_attacks.info()"
   ]
  },
  {
   "cell_type": "markdown",
   "id": "991ade44-18a9-491e-bcdc-44fae9600ce8",
   "metadata": {},
   "source": [
    "### Engineering the features\n",
    "Now we want to split the data into features and target variable. In addition, we want to create the transformer to transform all the data into usable features."
   ]
  },
  {
   "cell_type": "markdown",
   "id": "7947ec1d-19f6-42f6-ba1c-db4cfa17fa17",
   "metadata": {},
   "source": [
    "#### Splitting the Data"
   ]
  },
  {
   "cell_type": "code",
   "execution_count": 230,
   "id": "42679290-ee23-48e6-a71a-78dda544ae34",
   "metadata": {},
   "outputs": [
    {
     "name": "stdout",
     "output_type": "stream",
     "text": [
      "<class 'pandas.core.frame.DataFrame'>\n",
      "RangeIndex: 40000 entries, 0 to 39999\n",
      "Data columns (total 23 columns):\n",
      " #   Column              Non-Null Count  Dtype  \n",
      "---  ------              --------------  -----  \n",
      " 0   Protocol            40000 non-null  object \n",
      " 1   Packet Length       40000 non-null  int64  \n",
      " 2   Packet Type         40000 non-null  object \n",
      " 3   Traffic Type        40000 non-null  object \n",
      " 4   Payload Data        40000 non-null  int64  \n",
      " 5   Malware Indicators  20000 non-null  object \n",
      " 6   Anomaly Scores      40000 non-null  float64\n",
      " 7   Alerts/Warnings     19933 non-null  object \n",
      " 8   Attack Type         40000 non-null  object \n",
      " 9   Attack Signature    40000 non-null  object \n",
      " 10  Action Taken        40000 non-null  object \n",
      " 11  Network Segment     40000 non-null  object \n",
      " 12  Firewall Logs       20039 non-null  object \n",
      " 13  IDS/IPS Alerts      19950 non-null  object \n",
      " 14  Log Source          40000 non-null  object \n",
      " 15  Browser             40000 non-null  object \n",
      " 16  Year                40000 non-null  object \n",
      " 17  Month_sin           40000 non-null  float64\n",
      " 18  Month_cos           40000 non-null  float64\n",
      " 19  Day_sin             40000 non-null  float64\n",
      " 20  Day_cos             40000 non-null  float64\n",
      " 21  Hour_sin            40000 non-null  float64\n",
      " 22  Hour_cos            40000 non-null  float64\n",
      "dtypes: float64(7), int64(2), object(14)\n",
      "memory usage: 7.0+ MB\n"
     ]
    }
   ],
   "source": [
    "X, y = clean_attacks.drop( \"Severity Level\", axis = 1 ), clean_attacks[\"Severity Level\"]\n",
    "X.info()"
   ]
  },
  {
   "cell_type": "markdown",
   "id": "de3b8d25-b670-4222-ac0b-46e07e4806fb",
   "metadata": {},
   "source": [
    "#### Transformer\n",
    "Now we create the transformer to transform our data"
   ]
  },
  {
   "cell_type": "code",
   "execution_count": 234,
   "id": "727bf91f-c5ee-41ea-8f4e-cc140fa1b3c5",
   "metadata": {},
   "outputs": [],
   "source": [
    "# We use the column transformer to transform our data\n",
    "from sklearn.compose import make_column_selector, make_column_transformer\n",
    "from sklearn.preprocessing import StandardScaler, OneHotEncoder\n",
    "\n",
    "# We use OneHotEncoding for all string features and Standard Scaler for all numerical features\n",
    "# We skip the cyclical features since they don't need to be scaled.\n",
    "transformer = make_column_transformer( \n",
    "    ( OneHotEncoder( drop = \"if_binary\", handle_unknown='ignore' ), make_column_selector( dtype_include=object ) ),\n",
    "    ( StandardScaler(), [\"Payload Data\", \"Anomaly Scores\", \"Packet Length\"] ),\n",
    "    remainder = \"passthrough\" )"
   ]
  },
  {
   "cell_type": "code",
   "execution_count": 236,
   "id": "3b0aa501-610b-4eb0-b08c-ee4c93bc5fa0",
   "metadata": {},
   "outputs": [
    {
     "data": {
      "text/plain": [
       "(40000, 36)"
      ]
     },
     "execution_count": 236,
     "metadata": {},
     "output_type": "execute_result"
    }
   ],
   "source": [
    "transformer.fit_transform( X ).shape"
   ]
  },
  {
   "cell_type": "markdown",
   "id": "817625cc-6865-4ec7-85ea-32c828a8ab04",
   "metadata": {},
   "source": [
    "### Train / Test Split\n",
    "Now that we finished cleaning and engineering the data, we can split the data into a training set and testing set"
   ]
  },
  {
   "cell_type": "code",
   "execution_count": 238,
   "id": "97f6a574-09fd-4e51-bc8b-7075970e54a5",
   "metadata": {},
   "outputs": [
    {
     "name": "stdout",
     "output_type": "stream",
     "text": [
      "30000 10000 30000 10000\n"
     ]
    }
   ],
   "source": [
    "# We split the train-test data by 25-75\n",
    "from sklearn.model_selection import train_test_split\n",
    "\n",
    "X_train, X_test, y_train, y_test = train_test_split( X, y )\n",
    "\n",
    "print( len(X_train), len(X_test), len(y_train), len(y_test) )"
   ]
  },
  {
   "cell_type": "markdown",
   "id": "c52dd0fc-6bc4-4b66-a2eb-eb3f3b63f407",
   "metadata": {},
   "source": [
    "## Baseline Model\n",
    "Now we can start training models. The first thing we should do is see what the baseline is. What is the bare minimum that our models need to beat?"
   ]
  },
  {
   "cell_type": "code",
   "execution_count": 241,
   "id": "b290e70c-f8b7-429c-8c87-952c66b19a08",
   "metadata": {},
   "outputs": [
    {
     "name": "stdout",
     "output_type": "stream",
     "text": [
      "Training Accuracy 0.33566666666666667\n",
      "Testing Accuracy 0.3312\n"
     ]
    }
   ],
   "source": [
    "# The baseline model should just be a model that returns the most frequent value\n",
    "# We use the Dummy Classifier to do this\n",
    "from sklearn.dummy import DummyClassifier\n",
    "from sklearn.metrics import accuracy_score\n",
    "\n",
    "baseline_model = DummyClassifier().fit( X_train, y_train )\n",
    "\n",
    "baseline_trainScore = accuracy_score( y_train, baseline_model.predict( X_train ) )\n",
    "baseline_testScore = accuracy_score( y_test, baseline_model.predict( X_test ) )                       \n",
    "\n",
    "print( \"Training Accuracy\", baseline_trainScore )\n",
    "print( \"Testing Accuracy\", baseline_testScore )"
   ]
  },
  {
   "cell_type": "markdown",
   "id": "9987de34-18a3-4fd6-952d-b9b1457fea62",
   "metadata": {},
   "source": [
    "As we can see, our model needs to beat an accuracy of 33%"
   ]
  },
  {
   "cell_type": "markdown",
   "id": "632635c2-29ea-443d-ae1c-54f1e7bee428",
   "metadata": {},
   "source": [
    "## First Attempt At Training Models\n",
    "For our first attempt at training models, we will be using K-Nearest Neighbors, Decision Tree, Logistic Regression, and SVM models. For each one, we'll be training while doing a small hyperparameter search to optimize each model a little bit."
   ]
  },
  {
   "cell_type": "code",
   "execution_count": null,
   "id": "a7243d88-636b-48ff-9924-cbc0ee9ab184",
   "metadata": {},
   "outputs": [],
   "source": []
  }
 ],
 "metadata": {
  "kernelspec": {
   "display_name": "Python 3 (ipykernel)",
   "language": "python",
   "name": "python3"
  },
  "language_info": {
   "codemirror_mode": {
    "name": "ipython",
    "version": 3
   },
   "file_extension": ".py",
   "mimetype": "text/x-python",
   "name": "python",
   "nbconvert_exporter": "python",
   "pygments_lexer": "ipython3",
   "version": "3.11.5"
  }
 },
 "nbformat": 4,
 "nbformat_minor": 5
}
